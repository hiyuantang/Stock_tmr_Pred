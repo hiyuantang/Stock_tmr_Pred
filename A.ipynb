{
 "cells": [
  {
   "cell_type": "code",
   "execution_count": 2,
   "metadata": {},
   "outputs": [],
   "source": [
    "import torch\n",
    "import torch.nn as nn \n",
    "import matplotlib.pyplot as plt\n",
    "import numpy as np\n",
    "import yfinance as yf\n",
    "import pandas as pd\n",
    "from sklearn.preprocessing import MinMaxScaler\n",
    "from torch.utils.data import DataLoader\n",
    "from torch.utils.data import TensorDataset"
   ]
  },
  {
   "cell_type": "code",
   "execution_count": 3,
   "metadata": {},
   "outputs": [],
   "source": [
    "msft = yf.Ticker('NVDA')"
   ]
  },
  {
   "cell_type": "code",
   "execution_count": 4,
   "metadata": {},
   "outputs": [
    {
     "data": {
      "text/html": [
       "<div>\n",
       "<style scoped>\n",
       "    .dataframe tbody tr th:only-of-type {\n",
       "        vertical-align: middle;\n",
       "    }\n",
       "\n",
       "    .dataframe tbody tr th {\n",
       "        vertical-align: top;\n",
       "    }\n",
       "\n",
       "    .dataframe thead th {\n",
       "        text-align: right;\n",
       "    }\n",
       "</style>\n",
       "<table border=\"1\" class=\"dataframe\">\n",
       "  <thead>\n",
       "    <tr style=\"text-align: right;\">\n",
       "      <th></th>\n",
       "      <th>Open</th>\n",
       "      <th>High</th>\n",
       "      <th>Low</th>\n",
       "      <th>Close</th>\n",
       "      <th>Volume</th>\n",
       "      <th>Dividends</th>\n",
       "      <th>Stock Splits</th>\n",
       "    </tr>\n",
       "    <tr>\n",
       "      <th>Date</th>\n",
       "      <th></th>\n",
       "      <th></th>\n",
       "      <th></th>\n",
       "      <th></th>\n",
       "      <th></th>\n",
       "      <th></th>\n",
       "      <th></th>\n",
       "    </tr>\n",
       "  </thead>\n",
       "  <tbody>\n",
       "    <tr>\n",
       "      <th>1999-01-22</th>\n",
       "      <td>0.401892</td>\n",
       "      <td>0.448540</td>\n",
       "      <td>0.356440</td>\n",
       "      <td>0.376774</td>\n",
       "      <td>271468800.0</td>\n",
       "      <td>0.0</td>\n",
       "      <td>0.0</td>\n",
       "    </tr>\n",
       "    <tr>\n",
       "      <th>1999-01-25</th>\n",
       "      <td>0.406676</td>\n",
       "      <td>0.421029</td>\n",
       "      <td>0.376774</td>\n",
       "      <td>0.416245</td>\n",
       "      <td>51048000.0</td>\n",
       "      <td>0.0</td>\n",
       "      <td>0.0</td>\n",
       "    </tr>\n",
       "    <tr>\n",
       "      <th>1999-01-26</th>\n",
       "      <td>0.421029</td>\n",
       "      <td>0.429403</td>\n",
       "      <td>0.377970</td>\n",
       "      <td>0.383951</td>\n",
       "      <td>34320000.0</td>\n",
       "      <td>0.0</td>\n",
       "      <td>0.0</td>\n",
       "    </tr>\n",
       "    <tr>\n",
       "      <th>1999-01-27</th>\n",
       "      <td>0.385147</td>\n",
       "      <td>0.394716</td>\n",
       "      <td>0.363616</td>\n",
       "      <td>0.382755</td>\n",
       "      <td>24436800.0</td>\n",
       "      <td>0.0</td>\n",
       "      <td>0.0</td>\n",
       "    </tr>\n",
       "    <tr>\n",
       "      <th>1999-01-28</th>\n",
       "      <td>0.382755</td>\n",
       "      <td>0.385147</td>\n",
       "      <td>0.379166</td>\n",
       "      <td>0.381559</td>\n",
       "      <td>22752000.0</td>\n",
       "      <td>0.0</td>\n",
       "      <td>0.0</td>\n",
       "    </tr>\n",
       "  </tbody>\n",
       "</table>\n",
       "</div>"
      ],
      "text/plain": [
       "                Open      High       Low     Close       Volume  Dividends  \\\n",
       "Date                                                                         \n",
       "1999-01-22  0.401892  0.448540  0.356440  0.376774  271468800.0        0.0   \n",
       "1999-01-25  0.406676  0.421029  0.376774  0.416245   51048000.0        0.0   \n",
       "1999-01-26  0.421029  0.429403  0.377970  0.383951   34320000.0        0.0   \n",
       "1999-01-27  0.385147  0.394716  0.363616  0.382755   24436800.0        0.0   \n",
       "1999-01-28  0.382755  0.385147  0.379166  0.381559   22752000.0        0.0   \n",
       "\n",
       "            Stock Splits  \n",
       "Date                      \n",
       "1999-01-22           0.0  \n",
       "1999-01-25           0.0  \n",
       "1999-01-26           0.0  \n",
       "1999-01-27           0.0  \n",
       "1999-01-28           0.0  "
      ]
     },
     "execution_count": 4,
     "metadata": {},
     "output_type": "execute_result"
    }
   ],
   "source": [
    "hist = msft.history(period=\"max\")\n",
    "hist.head()"
   ]
  },
  {
   "cell_type": "code",
   "execution_count": 5,
   "metadata": {},
   "outputs": [
    {
     "data": {
      "text/html": [
       "<div>\n",
       "<style scoped>\n",
       "    .dataframe tbody tr th:only-of-type {\n",
       "        vertical-align: middle;\n",
       "    }\n",
       "\n",
       "    .dataframe tbody tr th {\n",
       "        vertical-align: top;\n",
       "    }\n",
       "\n",
       "    .dataframe thead th {\n",
       "        text-align: right;\n",
       "    }\n",
       "</style>\n",
       "<table border=\"1\" class=\"dataframe\">\n",
       "  <thead>\n",
       "    <tr style=\"text-align: right;\">\n",
       "      <th></th>\n",
       "      <th>Open</th>\n",
       "      <th>High</th>\n",
       "      <th>Low</th>\n",
       "      <th>Close</th>\n",
       "      <th>Trend_tmr</th>\n",
       "    </tr>\n",
       "    <tr>\n",
       "      <th>Date</th>\n",
       "      <th></th>\n",
       "      <th></th>\n",
       "      <th></th>\n",
       "      <th></th>\n",
       "      <th></th>\n",
       "    </tr>\n",
       "  </thead>\n",
       "  <tbody>\n",
       "    <tr>\n",
       "      <th>2016-12-07</th>\n",
       "      <td>22.908059</td>\n",
       "      <td>23.515060</td>\n",
       "      <td>22.725466</td>\n",
       "      <td>23.458307</td>\n",
       "      <td>Up</td>\n",
       "    </tr>\n",
       "    <tr>\n",
       "      <th>2016-12-08</th>\n",
       "      <td>23.487917</td>\n",
       "      <td>23.840767</td>\n",
       "      <td>22.959877</td>\n",
       "      <td>23.065979</td>\n",
       "      <td>Up</td>\n",
       "    </tr>\n",
       "    <tr>\n",
       "      <th>2016-12-09</th>\n",
       "      <td>23.243635</td>\n",
       "      <td>23.260907</td>\n",
       "      <td>22.382486</td>\n",
       "      <td>22.656376</td>\n",
       "      <td>Down</td>\n",
       "    </tr>\n",
       "    <tr>\n",
       "      <th>2016-12-12</th>\n",
       "      <td>22.170280</td>\n",
       "      <td>22.194954</td>\n",
       "      <td>21.600293</td>\n",
       "      <td>22.106125</td>\n",
       "      <td>Up</td>\n",
       "    </tr>\n",
       "    <tr>\n",
       "      <th>2016-12-13</th>\n",
       "      <td>22.229503</td>\n",
       "      <td>22.772349</td>\n",
       "      <td>22.219634</td>\n",
       "      <td>22.495991</td>\n",
       "      <td>Up</td>\n",
       "    </tr>\n",
       "    <tr>\n",
       "      <th>2016-12-14</th>\n",
       "      <td>22.834036</td>\n",
       "      <td>23.961673</td>\n",
       "      <td>22.594690</td>\n",
       "      <td>23.798819</td>\n",
       "      <td>Up</td>\n",
       "    </tr>\n",
       "    <tr>\n",
       "      <th>2016-12-15</th>\n",
       "      <td>23.909859</td>\n",
       "      <td>24.659973</td>\n",
       "      <td>23.835834</td>\n",
       "      <td>24.356472</td>\n",
       "      <td>Up</td>\n",
       "    </tr>\n",
       "    <tr>\n",
       "      <th>2016-12-16</th>\n",
       "      <td>24.632824</td>\n",
       "      <td>24.847493</td>\n",
       "      <td>24.114654</td>\n",
       "      <td>24.775938</td>\n",
       "      <td>Up</td>\n",
       "    </tr>\n",
       "    <tr>\n",
       "      <th>2016-12-19</th>\n",
       "      <td>24.600753</td>\n",
       "      <td>25.279310</td>\n",
       "      <td>24.428031</td>\n",
       "      <td>25.076977</td>\n",
       "      <td>Up</td>\n",
       "    </tr>\n",
       "    <tr>\n",
       "      <th>2016-12-20</th>\n",
       "      <td>25.804880</td>\n",
       "      <td>26.187338</td>\n",
       "      <td>25.691376</td>\n",
       "      <td>25.950460</td>\n",
       "      <td>Up</td>\n",
       "    </tr>\n",
       "  </tbody>\n",
       "</table>\n",
       "</div>"
      ],
      "text/plain": [
       "                 Open       High        Low      Close Trend_tmr\n",
       "Date                                                            \n",
       "2016-12-07  22.908059  23.515060  22.725466  23.458307        Up\n",
       "2016-12-08  23.487917  23.840767  22.959877  23.065979        Up\n",
       "2016-12-09  23.243635  23.260907  22.382486  22.656376      Down\n",
       "2016-12-12  22.170280  22.194954  21.600293  22.106125        Up\n",
       "2016-12-13  22.229503  22.772349  22.219634  22.495991        Up\n",
       "2016-12-14  22.834036  23.961673  22.594690  23.798819        Up\n",
       "2016-12-15  23.909859  24.659973  23.835834  24.356472        Up\n",
       "2016-12-16  24.632824  24.847493  24.114654  24.775938        Up\n",
       "2016-12-19  24.600753  25.279310  24.428031  25.076977        Up\n",
       "2016-12-20  25.804880  26.187338  25.691376  25.950460        Up"
      ]
     },
     "execution_count": 5,
     "metadata": {},
     "output_type": "execute_result"
    }
   ],
   "source": [
    "close = hist.iloc[:,3].to_numpy()\n",
    "\n",
    "high = hist.iloc[:, 1].to_numpy()\n",
    "high = np.delete(high, 0)\n",
    "high = np.append(high, [0])\n",
    "\n",
    "up = high - close\n",
    "\n",
    "hist[['Trend_tmr']]='Up'\n",
    "for i in range(len(close)):\n",
    "    if up[i]<0:\n",
    "        hist.iloc[i, -1]='Down'\n",
    "\n",
    "hist.drop(columns=['Volume', 'Dividends', 'Stock Splits'], inplace=True)\n",
    "hist.drop(index=hist.iloc[0:4500].index, axis=0, inplace=True)\n",
    "hist.drop(index='2022-02-16', axis=0, inplace=True)\n",
    "\n",
    "hist.head()"
   ]
  },
  {
   "cell_type": "code",
   "execution_count": 6,
   "metadata": {},
   "outputs": [
    {
     "data": {
      "text/plain": [
       "[<matplotlib.lines.Line2D at 0x16e5b991460>]"
      ]
     },
     "execution_count": 6,
     "metadata": {},
     "output_type": "execute_result"
    },
    {
     "data": {
      "image/png": "[encoded data removed]",
      "text/plain": [
       "<Figure size 1440x360 with 1 Axes>"
      ]
     },
     "metadata": {
      "needs_background": "light"
     },
     "output_type": "display_data"
    }
   ],
   "source": [
    "plt.figure(figsize=(20,5))\n",
    "plt.plot(hist['Close'])"
   ]
  },
  {
   "cell_type": "code",
   "execution_count": 7,
   "metadata": {},
   "outputs": [
    {
     "name": "stdout",
     "output_type": "stream",
     "text": [
      "                 Open       High        Low      Close Trend_tmr\n",
      "Date                                                            \n",
      "2016-12-08  23.487917  23.840767  22.959877  23.065979        Up\n",
      "2016-12-09  23.243635  23.260907  22.382486  22.656376      Down\n",
      "2016-12-29  25.883839  27.509906  25.365670  27.495102        Up\n",
      "2016-12-30  27.475360  27.616006  26.229285  26.337852      Down\n",
      "2017-01-09  25.538392  26.648757  25.538392  26.471098        Up\n",
      "306\n"
     ]
    },
    {
     "data": {
      "text/plain": [
       "Text(0.5, 1.0, 'Simp Close since 2017')"
      ]
     },
     "execution_count": 7,
     "metadata": {},
     "output_type": "execute_result"
    },
    {
     "data": {
      "image/png": "[encoded data removed]",
      "text/plain": [
       "<Figure size 1440x360 with 1 Axes>"
      ]
     },
     "metadata": {
      "needs_background": "light"
     },
     "output_type": "display_data"
    }
   ],
   "source": [
    "simp = hist.copy(deep=True)\n",
    "for i in range(len(hist)-1):\n",
    "    if hist.iloc[i, 4] == hist.iloc[i+1, 4]:\n",
    "        simp.drop(index=hist.iloc[i: i+1].index, inplace=True)\n",
    "print(simp.head(5))\n",
    "print(len(simp))\n",
    "\n",
    "plt.figure(figsize=(20,5))\n",
    "plt.plot(simp.iloc[:, 3])\n",
    "plt.title('Simp Close since 2017')"
   ]
  },
  {
   "cell_type": "code",
   "execution_count": 8,
   "metadata": {},
   "outputs": [
    {
     "name": "stdout",
     "output_type": "stream",
     "text": [
      "                Price\n",
      "Date                 \n",
      "2016-12-08  22.959877\n",
      "2016-12-09  23.260907\n",
      "2016-12-29  25.365670\n",
      "2016-12-30  27.616006\n",
      "2017-01-09  25.538392\n",
      "2017-01-11  26.204612\n",
      "2017-01-12  25.074504\n",
      "2017-01-13  25.908512\n",
      "2017-01-26  26.327982\n",
      "2017-01-27  27.608605\n",
      "2017-02-21  26.703037\n",
      "2017-02-22  27.621213\n",
      "2017-03-01  24.980149\n",
      "2017-03-03  24.402027\n",
      "2017-03-31  26.781212\n",
      "2017-04-03  27.090032\n",
      "2017-04-11  23.804146\n",
      "2017-04-12  24.384739\n",
      "2017-04-28  25.711446\n",
      "2017-05-01  26.398266\n"
     ]
    },
    {
     "data": {
      "text/plain": [
       "Text(0.5, 1.0, 'Hybrid since 2017')"
      ]
     },
     "execution_count": 8,
     "metadata": {},
     "output_type": "execute_result"
    },
    {
     "data": {
      "image/png": "[encoded data removed]",
      "text/plain": [
       "<Figure size 1440x360 with 1 Axes>"
      ]
     },
     "metadata": {
      "needs_background": "light"
     },
     "output_type": "display_data"
    }
   ],
   "source": [
    "hybrid = simp.copy(deep=True)\n",
    "hybrid.drop(columns=['Open', 'Close'], inplace=True)\n",
    "hybrid['Price']=0\n",
    "for i in hybrid.index:\n",
    "    if hybrid.loc[i, 'Trend_tmr'] == 'Up':\n",
    "        hybrid.loc[i, 'Price'] = hybrid.loc[i, 'Low']\n",
    "    else:\n",
    "        hybrid.loc[i, 'Price'] = hybrid.loc[i, 'High']\n",
    "\n",
    "hybrid.drop(columns=['High', 'Low', 'Trend_tmr'], inplace=True)\n",
    "\n",
    "print(hybrid.head(20))\n",
    "plt.figure(figsize=(20,5))\n",
    "plt.plot(hybrid.iloc[:, 0])\n",
    "plt.title('Hybrid since 2017')\n"
   ]
  },
  {
   "cell_type": "code",
   "execution_count": 9,
   "metadata": {},
   "outputs": [
    {
     "name": "stdout",
     "output_type": "stream",
     "text": [
      "                 Open       High        Low      Close Trend_tmr  Pivot\n",
      "Date                                                                   \n",
      "2016-12-07  22.908059  23.515060  22.725466  23.458307        Up  False\n",
      "2016-12-08  23.487917  23.840767  22.959877  23.065979        Up   True\n",
      "2016-12-09  23.243635  23.260907  22.382486  22.656376      Down   True\n",
      "2016-12-12  22.170280  22.194954  21.600293  22.106125        Up  False\n",
      "2016-12-13  22.229503  22.772349  22.219634  22.495991        Up  False\n"
     ]
    }
   ],
   "source": [
    "hist['Pivot']=False\n",
    "for i in hist.index:\n",
    "    if i in simp.index:\n",
    "        hist.loc[i, 'Pivot'] = True\n",
    "\n",
    "print(hist.head())"
   ]
  },
  {
   "cell_type": "code",
   "execution_count": 10,
   "metadata": {},
   "outputs": [],
   "source": [
    "data_x = hist[['Open', 'High', 'Low', 'Close']].to_numpy()\n",
    "data_y = hist[['Pivot']].to_numpy()\n",
    "\n",
    "scaler = MinMaxScaler(feature_range=(-1, 1))\n",
    "data_x = scaler.fit_transform(data_x)\n",
    "\n",
    "train_x = torch.from_numpy(data_x[0:1000, :]).float()\n",
    "train_y = torch.from_numpy(data_y[0:1000, :]).float()\n",
    "\n",
    "test_x = torch.from_numpy(data_x[1000:, :]).float()\n",
    "test_y = torch.from_numpy(data_y[1000:, :]).float()\n",
    "\n",
    "train_data = TensorDataset(train_x, train_y)\n",
    "test_data = TensorDataset(test_x, test_y)\n",
    "\n",
    "batch_size = 10\n",
    "train_data = DataLoader(train_data, batch_size, shuffle=True)\n",
    "test_data = DataLoader(test_data, batch_size, shuffle=True)"
   ]
  },
  {
   "cell_type": "code",
   "execution_count": 11,
   "metadata": {},
   "outputs": [],
   "source": [
    "device = torch.device('cuda' if torch.cuda.is_available() else 'cpu')"
   ]
  },
  {
   "cell_type": "code",
   "execution_count": 12,
   "metadata": {},
   "outputs": [],
   "source": [
    "class StockNet(nn.Module):\n",
    "    def __init__(self, input_size, hidden_size, output_size):\n",
    "        super().__init__()\n",
    "        self.l1 = nn.Linear(input_size, hidden_size)\n",
    "        self.relu = nn.ReLU()\n",
    "        self.l2 = nn.Linear(hidden_size, output_size)\n",
    "    \n",
    "    def forward(self, x):\n",
    "        out = self.l1(x)\n",
    "        out = self.relu(out)\n",
    "        out = self.l2(out)\n",
    "        return out"
   ]
  },
  {
   "cell_type": "code",
   "execution_count": 13,
   "metadata": {},
   "outputs": [
    {
     "name": "stdout",
     "output_type": "stream",
     "text": [
      "epoch 1/10, loss = -0.0000000000\n",
      "epoch 2/10, loss = -0.0000000000\n",
      "epoch 3/10, loss = -0.0000000000\n",
      "epoch 4/10, loss = -0.0000000000\n",
      "epoch 5/10, loss = -0.0000000000\n",
      "epoch 6/10, loss = -0.0000000000\n",
      "epoch 7/10, loss = -0.0000000000\n",
      "epoch 8/10, loss = -0.0000000000\n",
      "epoch 9/10, loss = -0.0000000000\n",
      "epoch 10/10, loss = -0.0000000000\n"
     ]
    }
   ],
   "source": [
    "input_size = 4\n",
    "output_size = 1\n",
    "hidden_size = 20\n",
    "learning_rate = 0.01\n",
    "num_epoch = 10\n",
    "\n",
    "model = StockNet(input_size, hidden_size, output_size).to(device)\n",
    "criterion = nn.CrossEntropyLoss()\n",
    "optimizer = torch.optim.SGD(model.parameters(), lr=learning_rate)\n",
    "\n",
    "for epoch in range(num_epoch):\n",
    "    for i, (inputs, labels) in enumerate(train_data):\n",
    "        inputs = inputs.to(device)\n",
    "        labels = labels.to(device)\n",
    "        outputs = model(inputs)\n",
    "        loss = criterion(outputs, labels)\n",
    "\n",
    "        loss.backward()\n",
    "        optimizer.step()\n",
    "        optimizer.zero_grad()\n",
    "        \n",
    "        if (i+1)%100==0:\n",
    "            print(f'epoch {epoch+1}/{num_epoch}, loss = {loss.item():.10f}')\n",
    "\n"
   ]
  },
  {
   "cell_type": "code",
   "execution_count": 14,
   "metadata": {},
   "outputs": [
    {
     "name": "stdout",
     "output_type": "stream",
     "text": [
      "accuracy = 77.27272727272727\n"
     ]
    }
   ],
   "source": [
    "with torch.no_grad():\n",
    "    n_correct=0\n",
    "    n_samples=0\n",
    "    for inputs, labels in test_data:\n",
    "        inputs = inputs.to(device)\n",
    "        labels = labels.to(device)\n",
    "        outputs = model(inputs)\n",
    "\n",
    "        #value, index\n",
    "        predictions = torch.round(outputs)\n",
    "        n_samples += labels.shape[0]\n",
    "        n_correct += (predictions == labels).sum().item()\n",
    "    \n",
    "    acc = 100.0 * n_correct / n_samples\n",
    "    print(f'accuracy = {acc}')"
   ]
  },
  {
   "cell_type": "code",
   "execution_count": 15,
   "metadata": {},
   "outputs": [
    {
     "data": {
      "text/plain": [
       "tensor(0.7640)"
      ]
     },
     "execution_count": 15,
     "metadata": {},
     "output_type": "execute_result"
    }
   ],
   "source": [
    "1-train_y.sum()/train_y.shape[0]"
   ]
  },
  {
   "cell_type": "code",
   "execution_count": null,
   "metadata": {},
   "outputs": [],
   "source": []
  }
 ],
 "metadata": {
  "interpreter": {
   "hash": "6f1afeafb7ce82da8fe4ae26d5b446265789dd2924e2f5164a9e747febe7777b"
  },
  "kernelspec": {
   "display_name": "Python 3.9.7 ('Pytorch')",
   "language": "python",
   "name": "python3"
  },
  "language_info": {
   "codemirror_mode": {
    "name": "ipython",
    "version": 3
   },
   "file_extension": ".py",
   "mimetype": "text/x-python",
   "name": "python",
   "nbconvert_exporter": "python",
   "pygments_lexer": "ipython3",
   "version": "3.9.7"
  },
  "orig_nbformat": 4
 },
 "nbformat": 4,
 "nbformat_minor": 2
}
