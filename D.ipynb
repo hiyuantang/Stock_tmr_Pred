{
 "cells": [
  {
   "cell_type": "code",
   "execution_count": 1,
   "metadata": {},
   "outputs": [],
   "source": [
    "import torch\n",
    "import torch.nn as nn \n",
    "import torch.utils.data as data\n",
    "from torch.utils.data import DataLoader\n",
    "from torch.utils.data import TensorDataset\n",
    "from sklearn.preprocessing import MinMaxScaler\n",
    "import matplotlib.pyplot as plt\n",
    "import numpy as np\n",
    "import yfinance as yf\n",
    "import yahoo_fin.stock_info as si\n",
    "import pandas as pd"
   ]
  },
  {
   "cell_type": "markdown",
   "metadata": {},
   "source": [
    "Data Pre-Processing"
   ]
  },
  {
   "cell_type": "code",
   "execution_count": 2,
   "metadata": {},
   "outputs": [
    {
     "data": {
      "text/html": [
       "<div>\n",
       "<style scoped>\n",
       "    .dataframe tbody tr th:only-of-type {\n",
       "        vertical-align: middle;\n",
       "    }\n",
       "\n",
       "    .dataframe tbody tr th {\n",
       "        vertical-align: top;\n",
       "    }\n",
       "\n",
       "    .dataframe thead th {\n",
       "        text-align: right;\n",
       "    }\n",
       "</style>\n",
       "<table border=\"1\" class=\"dataframe\">\n",
       "  <thead>\n",
       "    <tr style=\"text-align: right;\">\n",
       "      <th></th>\n",
       "      <th>Date</th>\n",
       "      <th>Open</th>\n",
       "      <th>Close</th>\n",
       "      <th>High</th>\n",
       "      <th>Low</th>\n",
       "      <th>Ratio1</th>\n",
       "      <th>Ratio2</th>\n",
       "      <th>Dividends</th>\n",
       "      <th>Volume</th>\n",
       "      <th>Name</th>\n",
       "      <th>trend_tmr_up</th>\n",
       "    </tr>\n",
       "  </thead>\n",
       "  <tbody>\n",
       "    <tr>\n",
       "      <th>0</th>\n",
       "      <td>2020-02-19</td>\n",
       "      <td>78.915603</td>\n",
       "      <td>79.808334</td>\n",
       "      <td>80.042618</td>\n",
       "      <td>78.915603</td>\n",
       "      <td>0.396060</td>\n",
       "      <td>0.792120</td>\n",
       "      <td>0.0</td>\n",
       "      <td>93984000.0</td>\n",
       "      <td>AAPL</td>\n",
       "      <td>False</td>\n",
       "    </tr>\n",
       "    <tr>\n",
       "      <th>1</th>\n",
       "      <td>2020-02-20</td>\n",
       "      <td>79.564202</td>\n",
       "      <td>78.989594</td>\n",
       "      <td>80.062354</td>\n",
       "      <td>78.474177</td>\n",
       "      <td>0.505435</td>\n",
       "      <td>-0.361804</td>\n",
       "      <td>0.0</td>\n",
       "      <td>100566000.0</td>\n",
       "      <td>AAPL</td>\n",
       "      <td>False</td>\n",
       "    </tr>\n",
       "    <tr>\n",
       "      <th>2</th>\n",
       "      <td>2020-02-21</td>\n",
       "      <td>78.575295</td>\n",
       "      <td>77.201668</td>\n",
       "      <td>79.026598</td>\n",
       "      <td>76.572812</td>\n",
       "      <td>0.536179</td>\n",
       "      <td>-0.559799</td>\n",
       "      <td>0.0</td>\n",
       "      <td>129554000.0</td>\n",
       "      <td>AAPL</td>\n",
       "      <td>False</td>\n",
       "    </tr>\n",
       "  </tbody>\n",
       "</table>\n",
       "</div>"
      ],
      "text/plain": [
       "         Date       Open      Close       High        Low    Ratio1    Ratio2  \\\n",
       "0  2020-02-19  78.915603  79.808334  80.042618  78.915603  0.396060  0.792120   \n",
       "1  2020-02-20  79.564202  78.989594  80.062354  78.474177  0.505435 -0.361804   \n",
       "2  2020-02-21  78.575295  77.201668  79.026598  76.572812  0.536179 -0.559799   \n",
       "\n",
       "   Dividends       Volume  Name  trend_tmr_up  \n",
       "0        0.0   93984000.0  AAPL         False  \n",
       "1        0.0  100566000.0  AAPL         False  \n",
       "2        0.0  129554000.0  AAPL         False  "
      ]
     },
     "execution_count": 2,
     "metadata": {},
     "output_type": "execute_result"
    }
   ],
   "source": [
    "sp500_df = pd.read_csv('./data/sp500_2y.csv')\n",
    "del sp500_df['Adj Close']\n",
    "sp500_df=sp500_df[['Date', 'Open', 'Close', 'High', 'Low', 'Ratio1', 'Ratio2', 'Dividends', 'Volume', 'Name', 'trend_tmr_up']]\n",
    "sp500_df.head(3)"
   ]
  },
  {
   "cell_type": "code",
   "execution_count": 3,
   "metadata": {},
   "outputs": [
    {
     "name": "stdout",
     "output_type": "stream",
     "text": [
      "train size is 162500\n",
      "valid size is 40500\n",
      "test size is 50670\n"
     ]
    }
   ],
   "source": [
    "#data_all = sp500_df[['Open', 'Close', 'High', 'Low', 'Ratio1', 'Ratio2', 'Dividends', 'Volume', 'trend_tmr_up']].to_numpy()\n",
    "data_all = sp500_df[['Ratio1', 'Ratio2', 'Dividends', 'Volume', 'trend_tmr_up']].to_numpy()\n",
    "train_size = 162500\n",
    "valid_size = 40500\n",
    "test_size = len(sp500_df)-train_size-valid_size\n",
    "scaler = MinMaxScaler(feature_range=(-1, 1))\n",
    "\n",
    "train_valid_set, test_set = data.random_split(data_all, [train_size+valid_size, test_size])\n",
    "\n",
    "train_valid_x, train_valid_y = train_valid_set[:][:, 0:-1], train_valid_set[:][:, -1]\n",
    "test_x, test_y = test_set[:][:, 0:-1], test_set[:][:, -1]\n",
    "\n",
    "train_valid_x = scaler.fit_transform(train_valid_x)\n",
    "test_x = scaler.transform(test_x)\n",
    "\n",
    "train_valid_x = torch.from_numpy(train_valid_x.astype(np.float32)).to(torch.float32)\n",
    "train_valid_y = torch.from_numpy(train_valid_y.astype(np.int8)).to(torch.int8)\n",
    "test_x = torch.from_numpy(test_x.astype(np.float32)).to(torch.float32)\n",
    "test_y = torch.from_numpy(test_y.astype(np.int8)).to(torch.int8)\n",
    "\n",
    "train_valid_data = TensorDataset(train_valid_x, train_valid_y.reshape(-1,1))\n",
    "test_data = TensorDataset(test_x, test_y.reshape(-1,1))\n",
    "\n",
    "train_data, valid_data = data.random_split(train_valid_data, [train_size, valid_size])\n",
    "\n",
    "print(f'train size is {len(train_data)}')\n",
    "print(f'valid size is {len(valid_data)}')\n",
    "print(f'test size is {len(test_data)}')\n",
    "\n",
    "batch_size = 100\n",
    "train_load = DataLoader(train_data, batch_size, shuffle=True)\n",
    "valid_load = DataLoader(valid_data, batch_size, shuffle=True)\n",
    "test_load = DataLoader(test_data, batch_size, shuffle=True)"
   ]
  },
  {
   "cell_type": "code",
   "execution_count": 4,
   "metadata": {},
   "outputs": [],
   "source": [
    "device = torch.device('cuda' if torch.cuda.is_available() else 'cpu')"
   ]
  },
  {
   "cell_type": "markdown",
   "metadata": {},
   "source": [
    "The Neural Net"
   ]
  },
  {
   "cell_type": "code",
   "execution_count": 5,
   "metadata": {},
   "outputs": [],
   "source": [
    "class StockNet(nn.Module):\n",
    "    def __init__(self, input_size, hidden_size_1, hidden_size_2, output_size):\n",
    "        super().__init__()\n",
    "        self.l1 = nn.Linear(input_size, hidden_size_1)\n",
    "        self.relu1 = nn.ReLU()\n",
    "        self.l2 = nn.Linear(hidden_size_1, hidden_size_2)\n",
    "        self.relu2 = nn.ReLU()\n",
    "        self.l3 = nn.Linear(hidden_size_2, output_size)\n",
    "\n",
    "    \n",
    "    def forward(self, x):\n",
    "        out = self.l1(x)\n",
    "        out = self.relu1(out)\n",
    "        out = self.l2(out)\n",
    "        out = self.relu2(out)\n",
    "        out = self.l3(out)\n",
    "        return out"
   ]
  },
  {
   "cell_type": "markdown",
   "metadata": {},
   "source": [
    "Training"
   ]
  },
  {
   "cell_type": "code",
   "execution_count": 19,
   "metadata": {},
   "outputs": [],
   "source": [
    "input_size = test_x.shape[1]\n",
    "output_size = 2\n",
    "hidden_size_1 = 200\n",
    "hidden_size_2 = 200\n",
    "learning_rate = 0.001\n",
    "num_epoch = 5"
   ]
  },
  {
   "cell_type": "code",
   "execution_count": 20,
   "metadata": {},
   "outputs": [
    {
     "name": "stdout",
     "output_type": "stream",
     "text": [
      "epoch 1/5, loss = 0.6182\n",
      "epoch 1/5, loss = 0.5350\n",
      "epoch 1/5, loss = 0.5113\n",
      "epoch 2/5, loss = 0.5940\n",
      "epoch 2/5, loss = 0.6666\n",
      "epoch 2/5, loss = 0.6168\n",
      "epoch 3/5, loss = 0.5540\n",
      "epoch 3/5, loss = 0.6371\n",
      "epoch 3/5, loss = 0.5995\n",
      "epoch 4/5, loss = 0.5379\n",
      "epoch 4/5, loss = 0.5389\n",
      "epoch 4/5, loss = 0.6589\n",
      "epoch 5/5, loss = 0.6035\n",
      "epoch 5/5, loss = 0.5739\n",
      "epoch 5/5, loss = 0.6470\n"
     ]
    }
   ],
   "source": [
    "model = StockNet(input_size, hidden_size_1, hidden_size_2, output_size).to(device)\n",
    "criterion = nn.CrossEntropyLoss()\n",
    "optimizer = torch.optim.Adam(model.parameters(), lr=learning_rate)\n",
    "\n",
    "for epoch in range(num_epoch):\n",
    "    for i, (inputs, labels) in enumerate(train_load):\n",
    "        inputs = inputs.to(device)\n",
    "        labels = labels.reshape(len(labels))\n",
    "        #################################################\n",
    "        labels = labels.type(torch.LongTensor).to(device)\n",
    "        #################################################\n",
    "        outputs = model(inputs)\n",
    "        loss = criterion(outputs, labels)\n",
    "\n",
    "        loss.backward()\n",
    "        optimizer.step()\n",
    "        optimizer.zero_grad()\n",
    "        \n",
    "        if (i+1)%500==0:\n",
    "            print(f'epoch {epoch+1}/{num_epoch}, loss = {loss.item():.4f}')"
   ]
  },
  {
   "cell_type": "markdown",
   "metadata": {},
   "source": [
    "Validation"
   ]
  },
  {
   "cell_type": "code",
   "execution_count": 21,
   "metadata": {},
   "outputs": [
    {
     "name": "stdout",
     "output_type": "stream",
     "text": [
      "valid accuracy = 68.4962962962963\n",
      "data balance ratio is 0.5293086171150208\n"
     ]
    }
   ],
   "source": [
    "with torch.no_grad():\n",
    "    n_correct=0\n",
    "    n_samples=0\n",
    "    how_many_1=0\n",
    "    for inputs, labels in valid_load:\n",
    "        inputs = inputs.to(device)\n",
    "        labels = labels.to(device)\n",
    "        outputs = model(inputs)\n",
    "\n",
    "        _, predictions = torch.max(outputs, 1)\n",
    "        n_samples += labels.shape[0]\n",
    "        n_correct += (predictions == labels[:, 0]).sum().item()\n",
    "        how_many_1 += labels.sum()\n",
    "    \n",
    "    acc = 100.0 * n_correct / n_samples\n",
    "    print(f'valid accuracy = {acc}')\n",
    "    print(f'data balance ratio is {how_many_1/n_samples}')"
   ]
  },
  {
   "cell_type": "markdown",
   "metadata": {},
   "source": [
    "Testing"
   ]
  },
  {
   "cell_type": "code",
   "execution_count": 22,
   "metadata": {},
   "outputs": [
    {
     "name": "stdout",
     "output_type": "stream",
     "text": [
      "test accuracy = 68.87112689954608\n",
      "data balance ratio is 0.5264456272125244\n"
     ]
    }
   ],
   "source": [
    "with torch.no_grad():\n",
    "    n_correct=0\n",
    "    n_samples=0\n",
    "    how_many_1=0\n",
    "    for inputs, labels in test_load:\n",
    "        inputs = inputs.to(device)\n",
    "        labels = labels.to(device)\n",
    "        outputs = model(inputs)\n",
    "\n",
    "        _, predictions = torch.max(outputs, 1)\n",
    "        n_samples += labels.shape[0]\n",
    "        n_correct += (predictions == labels[:, 0]).sum().item()\n",
    "        how_many_1 += labels.sum()\n",
    "    \n",
    "    acc = 100.0 * n_correct / n_samples\n",
    "    print(f'test accuracy = {acc}')\n",
    "    print(f'data balance ratio is {how_many_1/n_samples}')"
   ]
  },
  {
   "cell_type": "markdown",
   "metadata": {},
   "source": [
    "Single Stock Prediction"
   ]
  },
  {
   "cell_type": "code",
   "execution_count": 11,
   "metadata": {},
   "outputs": [],
   "source": [
    "def data_processing_yf (ticker, time_frame):\n",
    "    sample = yf.Ticker(ticker)\n",
    "    sample_df = sample.history(period=time_frame)\n",
    "    sample_df.reset_index(inplace=True)\n",
    "    sample_df['Name']=ticker\n",
    "    #sample_df.drop(columns='Dividends', inplace=True)\n",
    "    sample_df.drop(columns='Stock Splits', inplace=True)\n",
    "\n",
    "    sample_df['Ratio1']=((sample_df['Close']+sample_df['Open'])/2-sample_df['Low'])/(sample_df['High']-sample_df['Low'])\n",
    "    sample_df['Ratio2']=(sample_df['Close']-sample_df['Open'])/(sample_df['High']-sample_df['Low'])\n",
    "    sample_df['avg']=(sample_df['Open']+sample_df['Close']+sample_df['High']+sample_df['Low'])/4\n",
    "    sample_df['trend_tmr_up']=None\n",
    "\n",
    "    for i in range(len(sample_df)-1):\n",
    "        if sample_df.iloc[i+1, 10] > sample_df.iloc[i, 10]:\n",
    "            sample_df.iloc[i, 11]=True\n",
    "        else:\n",
    "            sample_df.iloc[i, 11]=False\n",
    "\n",
    "    sample_df.iloc[-1, -1]=3\n",
    "    return sample_df"
   ]
  },
  {
   "cell_type": "code",
   "execution_count": 12,
   "metadata": {},
   "outputs": [],
   "source": [
    "def count_one(x):\n",
    "    count=0\n",
    "    for i in range(len(x)):\n",
    "        if x[i]==1:\n",
    "            count+=1\n",
    "    return count"
   ]
  },
  {
   "cell_type": "code",
   "execution_count": 28,
   "metadata": {},
   "outputs": [],
   "source": [
    "def test_acc (sam_df):\n",
    "    name = sam_df['Name'][0]\n",
    "    sample_avg = sam_df['avg']\n",
    "    acc_dict = {}\n",
    "    if ('Dividends' in sam_df.columns) == False:\n",
    "        sam_df['Dividends'] = 0\n",
    "    #x = sam_df[['Open', 'Close', 'High', 'Low', 'Ratio1', 'Ratio2', 'Dividends', 'Volume']].to_numpy()\n",
    "    x = sam_df[['Ratio1', 'Ratio2', 'Dividends', 'Volume']].to_numpy()\n",
    "    y = sam_df['trend_tmr_up'].to_numpy().astype(np.int8)\n",
    "    x = scaler.transform(x)\n",
    "    x = torch.from_numpy(x.astype(np.float32)).to(torch.float32).to(device)\n",
    "\n",
    "    with torch.no_grad():\n",
    "        outputs_sam = model(x)\n",
    "        _, pred_samle = torch.max(outputs_sam, 1)\n",
    "\n",
    "    pred = pred_samle.cpu().numpy()\n",
    "    acc = 1-count_one(pred_samle.cpu()+y)/(len(y)-1)\n",
    "    acc_dict[name]=acc\n",
    "    #print(f'Prediction: {pred}')\n",
    "    #print(f'Reality   : {y}')\n",
    "    print(f'{name} accuracy is {acc}')\n",
    "    return acc_dict, pred, y, sample_avg"
   ]
  },
  {
   "cell_type": "code",
   "execution_count": 29,
   "metadata": {},
   "outputs": [
    {
     "name": "stdout",
     "output_type": "stream",
     "text": [
      "NVDA accuracy is 0.7903225806451613\n"
     ]
    }
   ],
   "source": [
    "ticker = 'NVDA'\n",
    "time_frame = '3mo'\n",
    "acc_dict, pred, y, sample_avg = test_acc (data_processing_yf (ticker, time_frame))"
   ]
  },
  {
   "cell_type": "code",
   "execution_count": 30,
   "metadata": {},
   "outputs": [],
   "source": [
    "def plot_trend (data):\n",
    "    pred_list=[0]\n",
    "    for i in range(len(data)):\n",
    "        if data[i]==0:\n",
    "            data[i]=-1\n",
    "    for i in range(len(data)):\n",
    "        pred_list.append(data[i]+pred_list[-1])\n",
    "    pred_list.pop(0)\n",
    "    return pred_list"
   ]
  },
  {
   "cell_type": "code",
   "execution_count": 31,
   "metadata": {},
   "outputs": [],
   "source": [
    "pred=plot_trend(pred)\n",
    "y=plot_trend(y)"
   ]
  },
  {
   "cell_type": "code",
   "execution_count": 39,
   "metadata": {},
   "outputs": [
    {
     "data": {
      "text/plain": [
       "<AxesSubplot:>"
      ]
     },
     "execution_count": 39,
     "metadata": {},
     "output_type": "execute_result"
    },
    {
     "data": {
      "image/png": "[encoded data removed]",
      "text/plain": [
       "<Figure size 432x288 with 1 Axes>"
      ]
     },
     "metadata": {
      "needs_background": "light"
     },
     "output_type": "display_data"
    },
    {
     "data": {
      "image/png": "[encoded data removed]",
      "text/plain": [
       "<Figure size 432x288 with 1 Axes>"
      ]
     },
     "metadata": {
      "needs_background": "light"
     },
     "output_type": "display_data"
    },
    {
     "data": {
      "image/png": "[encoded data removed]",
      "text/plain": [
       "<Figure size 432x288 with 1 Axes>"
      ]
     },
     "metadata": {
      "needs_background": "light"
     },
     "output_type": "display_data"
    }
   ],
   "source": [
    "sample_avg.plot()\n",
    "pd.DataFrame(y).plot()\n",
    "pd.DataFrame(pred).plot()"
   ]
  },
  {
   "cell_type": "code",
   "execution_count": null,
   "metadata": {},
   "outputs": [],
   "source": [
    "stocks_perf = {}\n",
    "for i in range (len(sp500_df.Name.unique())):\n",
    "    ticker = sp500_df.Name.unique()[i] \n",
    "    time_frame = '3mo'\n",
    "    acc_dict, pred, y = test_acc(data_processing_yf(ticker, time_frame))\n",
    "    stocks_perf.update(acc_dict)"
   ]
  },
  {
   "cell_type": "code",
   "execution_count": null,
   "metadata": {},
   "outputs": [],
   "source": [
    "stocks_perf"
   ]
  },
  {
   "cell_type": "code",
   "execution_count": null,
   "metadata": {},
   "outputs": [],
   "source": []
  }
 ],
 "metadata": {
  "interpreter": {
   "hash": "53213aaf44a9b500f45e4dbdbab8474339604b7b9920d2b6d3bf598aa5d19e5a"
  },
  "kernelspec": {
   "display_name": "Python 3.9.7 ('Pytorch')",
   "language": "python",
   "name": "python3"
  },
  "language_info": {
   "codemirror_mode": {
    "name": "ipython",
    "version": 3
   },
   "file_extension": ".py",
   "mimetype": "text/x-python",
   "name": "python",
   "nbconvert_exporter": "python",
   "pygments_lexer": "ipython3",
   "version": "3.9.7"
  },
  "orig_nbformat": 4
 },
 "nbformat": 4,
 "nbformat_minor": 2
}
