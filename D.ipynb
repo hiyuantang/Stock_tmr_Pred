{
 "cells": [
  {
   "cell_type": "code",
   "execution_count": 1,
   "metadata": {},
   "outputs": [],
   "source": [
    "import torch\n",
    "import torch.nn as nn \n",
    "import torch.utils.data as data\n",
    "from torch.utils.data import DataLoader\n",
    "from torch.utils.data import TensorDataset\n",
    "from sklearn.preprocessing import MinMaxScaler\n",
    "import matplotlib.pyplot as plt\n",
    "import numpy as np\n",
    "import yfinance as yf\n",
    "import pandas as pd\n",
    "import math"
   ]
  },
  {
   "cell_type": "markdown",
   "metadata": {},
   "source": [
    "Data Pre-Processing"
   ]
  },
  {
   "cell_type": "code",
   "execution_count": 2,
   "metadata": {},
   "outputs": [
    {
     "data": {
      "text/html": [
       "<div>\n",
       "<style scoped>\n",
       "    .dataframe tbody tr th:only-of-type {\n",
       "        vertical-align: middle;\n",
       "    }\n",
       "\n",
       "    .dataframe tbody tr th {\n",
       "        vertical-align: top;\n",
       "    }\n",
       "\n",
       "    .dataframe thead th {\n",
       "        text-align: right;\n",
       "    }\n",
       "</style>\n",
       "<table border=\"1\" class=\"dataframe\">\n",
       "  <thead>\n",
       "    <tr style=\"text-align: right;\">\n",
       "      <th></th>\n",
       "      <th>Date</th>\n",
       "      <th>Open</th>\n",
       "      <th>High</th>\n",
       "      <th>Low</th>\n",
       "      <th>Close</th>\n",
       "      <th>Volume</th>\n",
       "      <th>Dividends</th>\n",
       "      <th>Ratio1</th>\n",
       "      <th>Ratio2</th>\n",
       "      <th>MA-avg</th>\n",
       "      <th>Name</th>\n",
       "      <th>trend_tmr_up</th>\n",
       "    </tr>\n",
       "  </thead>\n",
       "  <tbody>\n",
       "    <tr>\n",
       "      <th>0</th>\n",
       "      <td>2020-03-31</td>\n",
       "      <td>63.033849</td>\n",
       "      <td>64.732997</td>\n",
       "      <td>62.146047</td>\n",
       "      <td>62.710785</td>\n",
       "      <td>197002000.0</td>\n",
       "      <td>0.0</td>\n",
       "      <td>0.280744</td>\n",
       "      <td>-0.124882</td>\n",
       "      <td>3.846167</td>\n",
       "      <td>AAPL</td>\n",
       "      <td>False</td>\n",
       "    </tr>\n",
       "    <tr>\n",
       "      <th>1</th>\n",
       "      <td>2020-04-01</td>\n",
       "      <td>60.789681</td>\n",
       "      <td>61.337159</td>\n",
       "      <td>58.972157</td>\n",
       "      <td>59.411125</td>\n",
       "      <td>176218400.0</td>\n",
       "      <td>0.0</td>\n",
       "      <td>0.477059</td>\n",
       "      <td>-0.582899</td>\n",
       "      <td>6.231456</td>\n",
       "      <td>AAPL</td>\n",
       "      <td>False</td>\n",
       "    </tr>\n",
       "    <tr>\n",
       "      <th>2</th>\n",
       "      <td>2020-04-02</td>\n",
       "      <td>59.270548</td>\n",
       "      <td>60.456747</td>\n",
       "      <td>58.422204</td>\n",
       "      <td>60.402493</td>\n",
       "      <td>165934000.0</td>\n",
       "      <td>0.0</td>\n",
       "      <td>0.695152</td>\n",
       "      <td>0.556363</td>\n",
       "      <td>6.066502</td>\n",
       "      <td>AAPL</td>\n",
       "      <td>True</td>\n",
       "    </tr>\n",
       "  </tbody>\n",
       "</table>\n",
       "</div>"
      ],
      "text/plain": [
       "         Date       Open       High        Low      Close       Volume  \\\n",
       "0  2020-03-31  63.033849  64.732997  62.146047  62.710785  197002000.0   \n",
       "1  2020-04-01  60.789681  61.337159  58.972157  59.411125  176218400.0   \n",
       "2  2020-04-02  59.270548  60.456747  58.422204  60.402493  165934000.0   \n",
       "\n",
       "   Dividends    Ratio1    Ratio2    MA-avg  Name  trend_tmr_up  \n",
       "0        0.0  0.280744 -0.124882  3.846167  AAPL         False  \n",
       "1        0.0  0.477059 -0.582899  6.231456  AAPL         False  \n",
       "2        0.0  0.695152  0.556363  6.066502  AAPL          True  "
      ]
     },
     "execution_count": 2,
     "metadata": {},
     "output_type": "execute_result"
    }
   ],
   "source": [
    "sp500_df = pd.read_csv('./data/sp500_2y_ta.csv')\n",
    "features = ['Date', 'Open', 'High', 'Low', 'Close', 'Volume', 'Dividends', 'Ratio1', 'Ratio2', 'MA-avg',\n",
    "            'Name', 'trend_tmr_up']\n",
    "sp500_df=sp500_df[features]\n",
    "sp500_df.head(3)"
   ]
  },
  {
   "cell_type": "code",
   "execution_count": 3,
   "metadata": {},
   "outputs": [
    {
     "name": "stdout",
     "output_type": "stream",
     "text": [
      "train size is 162500\n",
      "valid size is 40500\n",
      "test size is 36090\n"
     ]
    }
   ],
   "source": [
    "#data_all = sp500_df[['Open', 'Close', 'High', 'Low', 'Ratio1', 'Ratio2', 'Dividends', 'Volume', 'trend_tmr_up']].to_numpy()\n",
    "data_all = sp500_df[['Ratio1', 'Ratio2', 'Dividends', 'Volume', 'MA-avg', 'trend_tmr_up']].to_numpy()\n",
    "train_size = 162500\n",
    "valid_size = 40500\n",
    "test_size = len(sp500_df)-train_size-valid_size\n",
    "scaler = MinMaxScaler(feature_range=(-1, 1))\n",
    "\n",
    "train_valid_set, test_set = data.random_split(data_all, [train_size+valid_size, test_size])\n",
    "\n",
    "train_valid_x, train_valid_y = train_valid_set[:][:, 0:-1], train_valid_set[:][:, -1]\n",
    "test_x, test_y = test_set[:][:, 0:-1], test_set[:][:, -1]\n",
    "\n",
    "train_valid_x = scaler.fit_transform(train_valid_x)\n",
    "test_x = scaler.transform(test_x)\n",
    "\n",
    "train_valid_x = torch.from_numpy(train_valid_x.astype(np.float32)).to(torch.float32)\n",
    "train_valid_y = torch.from_numpy(train_valid_y.astype(np.int8)).to(torch.int8)\n",
    "test_x = torch.from_numpy(test_x.astype(np.float32)).to(torch.float32)\n",
    "test_y = torch.from_numpy(test_y.astype(np.int8)).to(torch.int8)\n",
    "\n",
    "train_valid_data = TensorDataset(train_valid_x, train_valid_y.reshape(-1,1))\n",
    "test_data = TensorDataset(test_x, test_y.reshape(-1,1))\n",
    "\n",
    "train_data, valid_data = data.random_split(train_valid_data, [train_size, valid_size])\n",
    "\n",
    "print(f'train size is {len(train_data)}')\n",
    "print(f'valid size is {len(valid_data)}')\n",
    "print(f'test size is {len(test_data)}')\n",
    "\n",
    "batch_size = 100\n",
    "train_load = DataLoader(train_data, batch_size, shuffle=True)\n",
    "valid_load = DataLoader(valid_data, batch_size, shuffle=True)\n",
    "test_load = DataLoader(test_data, batch_size, shuffle=True)"
   ]
  },
  {
   "cell_type": "code",
   "execution_count": 4,
   "metadata": {},
   "outputs": [],
   "source": [
    "device = torch.device('cuda' if torch.cuda.is_available() else 'cpu')"
   ]
  },
  {
   "cell_type": "markdown",
   "metadata": {},
   "source": [
    "The Neural Net"
   ]
  },
  {
   "cell_type": "code",
   "execution_count": 7,
   "metadata": {},
   "outputs": [],
   "source": [
    "class StockNet(nn.Module):\n",
    "    def __init__(self, input_size, hidden_size_1, hidden_size_2, output_size):\n",
    "        super().__init__()\n",
    "        self.l1 = nn.Linear(input_size, hidden_size_1)\n",
    "        self.relu1 = nn.ReLU()\n",
    "        self.l2 = nn.Linear(hidden_size_1, hidden_size_2)\n",
    "        self.relu2 = nn.ReLU()\n",
    "        self.l3 = nn.Linear(hidden_size_2, output_size)\n",
    "\n",
    "    \n",
    "    def forward(self, x):\n",
    "        out = self.l1(x)\n",
    "        out = self.relu1(out)\n",
    "        out = self.l2(out)\n",
    "        out = self.relu2(out)\n",
    "        out = self.l3(out)\n",
    "        return out"
   ]
  },
  {
   "cell_type": "markdown",
   "metadata": {},
   "source": [
    "Training"
   ]
  },
  {
   "cell_type": "code",
   "execution_count": 8,
   "metadata": {},
   "outputs": [
    {
     "name": "stdout",
     "output_type": "stream",
     "text": [
      "input feature size is 5\n"
     ]
    }
   ],
   "source": [
    "input_size = test_x.shape[1]\n",
    "output_size = 2\n",
    "hidden_size_1 = 200\n",
    "hidden_size_2 = 200\n",
    "learning_rate = 0.001\n",
    "num_epoch = 10\n",
    "print(f'input feature size is {input_size}')"
   ]
  },
  {
   "cell_type": "code",
   "execution_count": 12,
   "metadata": {},
   "outputs": [
    {
     "name": "stdout",
     "output_type": "stream",
     "text": [
      "epoch 1/10, loss = 0.6026\n",
      "epoch 1/10, loss = 0.5850\n",
      "epoch 1/10, loss = 0.5856\n",
      "epoch 2/10, loss = 0.6526\n",
      "epoch 2/10, loss = 0.5348\n",
      "epoch 2/10, loss = 0.6482\n",
      "epoch 3/10, loss = 0.5331\n",
      "epoch 3/10, loss = 0.5756\n",
      "epoch 3/10, loss = 0.6045\n",
      "epoch 4/10, loss = 0.5239\n",
      "epoch 4/10, loss = 0.6265\n",
      "epoch 4/10, loss = 0.5884\n",
      "epoch 5/10, loss = 0.6731\n",
      "epoch 5/10, loss = 0.5628\n",
      "epoch 5/10, loss = 0.6291\n",
      "epoch 6/10, loss = 0.5786\n",
      "epoch 6/10, loss = 0.5542\n",
      "epoch 6/10, loss = 0.5354\n",
      "epoch 7/10, loss = 0.5553\n",
      "epoch 7/10, loss = 0.6227\n",
      "epoch 7/10, loss = 0.5262\n",
      "epoch 8/10, loss = 0.7011\n",
      "epoch 8/10, loss = 0.4822\n",
      "epoch 8/10, loss = 0.5440\n",
      "epoch 9/10, loss = 0.6383\n",
      "epoch 9/10, loss = 0.5711\n",
      "epoch 9/10, loss = 0.6042\n",
      "epoch 10/10, loss = 0.5635\n",
      "epoch 10/10, loss = 0.5421\n",
      "epoch 10/10, loss = 0.5902\n"
     ]
    }
   ],
   "source": [
    "model = StockNet(input_size, hidden_size_1, hidden_size_2, output_size).to(device)\n",
    "criterion = nn.CrossEntropyLoss()\n",
    "optimizer = torch.optim.Adam(model.parameters(), lr=learning_rate)\n",
    "\n",
    "for epoch in range(num_epoch):\n",
    "    for i, (inputs, labels) in enumerate(train_load):\n",
    "        inputs = inputs.to(device)\n",
    "        labels = labels.reshape(len(labels))\n",
    "        #################################################\n",
    "        labels = labels.type(torch.LongTensor).to(device)\n",
    "        #################################################\n",
    "        outputs = model(inputs)\n",
    "        loss = criterion(outputs, labels)\n",
    "\n",
    "        loss.backward()\n",
    "        optimizer.step()\n",
    "        optimizer.zero_grad()\n",
    "        \n",
    "        if (i+1)%500==0:\n",
    "            print(f'epoch {epoch+1}/{num_epoch}, loss = {loss.item():.4f}')"
   ]
  },
  {
   "cell_type": "markdown",
   "metadata": {},
   "source": [
    "Validation"
   ]
  },
  {
   "cell_type": "code",
   "execution_count": 13,
   "metadata": {},
   "outputs": [
    {
     "name": "stdout",
     "output_type": "stream",
     "text": [
      "valid accuracy = 69.53827160493827\n",
      "data balance ratio is 0.5379506349563599\n"
     ]
    }
   ],
   "source": [
    "with torch.no_grad():\n",
    "    n_correct=0\n",
    "    n_samples=0\n",
    "    how_many_1=0\n",
    "    for inputs, labels in valid_load:\n",
    "        inputs = inputs.to(device)\n",
    "        labels = labels.to(device)\n",
    "        outputs = model(inputs)\n",
    "\n",
    "        _, predictions = torch.max(outputs, 1)\n",
    "        n_samples += labels.shape[0]\n",
    "        n_correct += (predictions == labels[:, 0]).sum().item()\n",
    "        how_many_1 += labels.sum()\n",
    "    \n",
    "    acc = 100.0 * n_correct / n_samples\n",
    "    print(f'valid accuracy = {acc}')\n",
    "    print(f'data balance ratio is {how_many_1/n_samples}')"
   ]
  },
  {
   "cell_type": "markdown",
   "metadata": {},
   "source": [
    "Testing"
   ]
  },
  {
   "cell_type": "code",
   "execution_count": 14,
   "metadata": {},
   "outputs": [
    {
     "name": "stdout",
     "output_type": "stream",
     "text": [
      "test accuracy = 69.14934885009698\n",
      "data balance ratio is 0.5328900218009949\n"
     ]
    }
   ],
   "source": [
    "with torch.no_grad():\n",
    "    n_correct=0\n",
    "    n_samples=0\n",
    "    how_many_1=0\n",
    "    for inputs, labels in test_load:\n",
    "        inputs = inputs.to(device)\n",
    "        labels = labels.to(device)\n",
    "        outputs = model(inputs)\n",
    "\n",
    "        _, predictions = torch.max(outputs, 1)\n",
    "        n_samples += labels.shape[0]\n",
    "        n_correct += (predictions == labels[:, 0]).sum().item()\n",
    "        how_many_1 += labels.sum()\n",
    "    \n",
    "    acc = 100.0 * n_correct / n_samples\n",
    "    print(f'test accuracy = {acc}')\n",
    "    print(f'data balance ratio is {how_many_1/n_samples}')"
   ]
  },
  {
   "cell_type": "markdown",
   "metadata": {},
   "source": [
    "Single Stock Prediction"
   ]
  },
  {
   "cell_type": "code",
   "execution_count": null,
   "metadata": {},
   "outputs": [],
   "source": [
    "def data_processing_yf (ticker, time_frame):\n",
    "    sample = yf.Ticker(ticker)\n",
    "    sample_df = sample.history(period=time_frame)\n",
    "    sample_df.reset_index(inplace=True)\n",
    "    sample_df['Name']=ticker\n",
    "    #sample_df.drop(columns='Dividends', inplace=True)\n",
    "    sample_df.drop(columns='Stock Splits', inplace=True)\n",
    "\n",
    "    sample_df['Ratio1']=((sample_df['Close']+sample_df['Open'])/2-sample_df['Low'])/(sample_df['High']-sample_df['Low'])\n",
    "    sample_df['Ratio2']=(sample_df['Close']-sample_df['Open'])/(sample_df['High']-sample_df['Low'])\n",
    "    sample_df['avg']=(sample_df['Open']+sample_df['Close']+sample_df['High']+sample_df['Low'])/4\n",
    "    sample_df['trend_tmr_up']=None\n",
    "\n",
    "    for i in range(len(sample_df)-1):\n",
    "        if sample_df.iloc[i+1, 10] > sample_df.iloc[i, 10]:\n",
    "            sample_df.iloc[i, 11]=True\n",
    "        else:\n",
    "            sample_df.iloc[i, 11]=False\n",
    "\n",
    "    sample_df.iloc[-1, -1]=3\n",
    "    return sample_df"
   ]
  },
  {
   "cell_type": "code",
   "execution_count": null,
   "metadata": {},
   "outputs": [],
   "source": [
    "def count_one(x):\n",
    "    count=0\n",
    "    for i in range(len(x)):\n",
    "        if x[i]==1:\n",
    "            count+=1\n",
    "    return count"
   ]
  },
  {
   "cell_type": "code",
   "execution_count": null,
   "metadata": {},
   "outputs": [],
   "source": [
    "def test_acc (sam_df):\n",
    "    name = sam_df['Name'][0]\n",
    "    sample_avg = sam_df['avg']\n",
    "    last_date = sam_df.iloc[-1, 0]\n",
    "    acc_dict = {}\n",
    "    if ('Dividends' in sam_df.columns) == False:\n",
    "        sam_df['Dividends'] = 0\n",
    "    #x = sam_df[['Open', 'Close', 'High', 'Low', 'Ratio1', 'Ratio2', 'Dividends', 'Volume']].to_numpy()\n",
    "    x = sam_df[['Ratio1', 'Ratio2', 'Dividends', 'Volume']].to_numpy()\n",
    "    y = sam_df['trend_tmr_up'].to_numpy().astype(np.int8)\n",
    "    x = scaler.transform(x)\n",
    "    x = torch.from_numpy(x.astype(np.float32)).to(torch.float32).to(device)\n",
    "\n",
    "    with torch.no_grad():\n",
    "        outputs_sam = model(x)\n",
    "        _, pred_sample = torch.max(outputs_sam, 1)\n",
    "\n",
    "    pred = pred_sample.cpu().numpy()\n",
    "    acc = 1-count_one(pred_sample.cpu()+y)/(len(y)-1)\n",
    "    acc_dict[name]=acc\n",
    "    #print(f'Prediction: {pred}')\n",
    "    #print(f'Reality   : {y}')\n",
    "    print(f'{name} accuracy is {acc}')\n",
    "    return acc_dict, pred, y, sample_avg, last_date"
   ]
  },
  {
   "cell_type": "code",
   "execution_count": null,
   "metadata": {},
   "outputs": [],
   "source": [
    "ticker = 'NVDA'\n",
    "time_frame = '10d'\n",
    "acc_dict, pred, y, sample_avg, last_date = test_acc (data_processing_yf (ticker, time_frame))"
   ]
  },
  {
   "cell_type": "code",
   "execution_count": null,
   "metadata": {},
   "outputs": [],
   "source": [
    "pred, y, last_date"
   ]
  },
  {
   "cell_type": "code",
   "execution_count": null,
   "metadata": {},
   "outputs": [],
   "source": [
    "def plot_trend (data):\n",
    "    pred_list=[0]\n",
    "    for i in range(len(data)):\n",
    "        if data[i]==0:\n",
    "            data[i]=-1\n",
    "    for i in range(len(data)):\n",
    "        pred_list.append(data[i]+pred_list[-1])\n",
    "    pred_list.pop(0)\n",
    "    return pred_list"
   ]
  },
  {
   "cell_type": "code",
   "execution_count": null,
   "metadata": {},
   "outputs": [],
   "source": [
    "pred=plot_trend(pred)\n",
    "y=plot_trend(y)"
   ]
  },
  {
   "cell_type": "code",
   "execution_count": null,
   "metadata": {},
   "outputs": [],
   "source": [
    "sample_avg.plot()\n",
    "pd.DataFrame(y).plot()\n",
    "pd.DataFrame(pred).plot()"
   ]
  },
  {
   "cell_type": "markdown",
   "metadata": {},
   "source": [
    "S&P 500 Group Prediction"
   ]
  },
  {
   "cell_type": "code",
   "execution_count": null,
   "metadata": {},
   "outputs": [],
   "source": [
    "stocks_perf = {}\n",
    "#for i in range (len(sp500_df.Name.unique())):\n",
    "for i in range (3):\n",
    "    ticker = sp500_df.Name.unique()[i] \n",
    "    time_frame = '3mo'\n",
    "    acc_dict, pred, y, sample_avg, last_date = test_acc(data_processing_yf(ticker, time_frame))\n",
    "    stocks_perf.update(acc_dict)"
   ]
  },
  {
   "cell_type": "code",
   "execution_count": null,
   "metadata": {},
   "outputs": [],
   "source": [
    "stocks_perf"
   ]
  },
  {
   "cell_type": "markdown",
   "metadata": {},
   "source": [
    "Stability Test"
   ]
  },
  {
   "cell_type": "code",
   "execution_count": null,
   "metadata": {},
   "outputs": [],
   "source": [
    "df_copy = sp500_df.copy(deep=True)\n",
    "df_copy.head(2)"
   ]
  },
  {
   "cell_type": "code",
   "execution_count": null,
   "metadata": {},
   "outputs": [],
   "source": [
    "def window_sliding (target_list, window_len, interval):\n",
    "    ans = []\n",
    "    num_loop = math.floor((len(target_list)-window_len)/interval)+1\n",
    "    for i in range(num_loop):\n",
    "        ans.append(target_list[i*interval:i*interval+window_len])\n",
    "    return ans"
   ]
  },
  {
   "cell_type": "code",
   "execution_count": null,
   "metadata": {},
   "outputs": [],
   "source": [
    "ticker_list = sp500_df.Name.unique()[0:10]\n",
    "time_frame = '1y'"
   ]
  },
  {
   "cell_type": "code",
   "execution_count": null,
   "metadata": {},
   "outputs": [],
   "source": [
    "sp500_df.Name.unique()[0:10]"
   ]
  },
  {
   "cell_type": "code",
   "execution_count": null,
   "metadata": {},
   "outputs": [],
   "source": [
    "def stability_performance_plot (ticker_list, time_frame):\n",
    "    fig, axs = plt.subplots(len(ticker_list))\n",
    "    fig.set_size_inches(18, 25)\n",
    "    for i in range(len(ticker_list)):\n",
    "        _, pred, y, _, _ = test_acc (data_processing_yf (ticker_list[i], time_frame))\n",
    "        window_size = 30\n",
    "        interval = 1\n",
    "        pred_sliding = window_sliding(pred, window_size, interval)\n",
    "        y_sliding = window_sliding(y, window_size, interval)\n",
    "        pred_y = []\n",
    "        for j in range (len(pred_sliding)):\n",
    "            pred_y.append(pred_sliding[j]+y_sliding[j])\n",
    "        acc_list =[]\n",
    "        for z in range(len(pred_y)):\n",
    "            acc_list.append(1-count_one(pred_y[z])/(len(pred_y[z])))\n",
    "        axs[i].plot(acc_list)\n"
   ]
  },
  {
   "cell_type": "code",
   "execution_count": null,
   "metadata": {},
   "outputs": [],
   "source": [
    "stability_performance_plot (ticker_list, time_frame)"
   ]
  }
 ],
 "metadata": {
  "interpreter": {
   "hash": "53213aaf44a9b500f45e4dbdbab8474339604b7b9920d2b6d3bf598aa5d19e5a"
  },
  "kernelspec": {
   "display_name": "Python 3.9.7 ('Pytorch')",
   "language": "python",
   "name": "python3"
  },
  "language_info": {
   "codemirror_mode": {
    "name": "ipython",
    "version": 3
   },
   "file_extension": ".py",
   "mimetype": "text/x-python",
   "name": "python",
   "nbconvert_exporter": "python",
   "pygments_lexer": "ipython3",
   "version": "3.9.7"
  },
  "orig_nbformat": 4
 },
 "nbformat": 4,
 "nbformat_minor": 2
}
