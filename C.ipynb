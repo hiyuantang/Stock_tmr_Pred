{
 "cells": [
  {
   "cell_type": "code",
   "execution_count": 1,
   "metadata": {},
   "outputs": [],
   "source": [
    "import torch\n",
    "import torch.nn as nn \n",
    "import torch.utils.data as data\n",
    "from torch.utils.data import DataLoader\n",
    "from torch.utils.data import TensorDataset\n",
    "from sklearn.preprocessing import MinMaxScaler\n",
    "import matplotlib.pyplot as plt\n",
    "import numpy as np\n",
    "import yfinance as yf\n",
    "import pandas as pd"
   ]
  },
  {
   "cell_type": "markdown",
   "metadata": {},
   "source": [
    "Data Pre-Processing"
   ]
  },
  {
   "cell_type": "code",
   "execution_count": 103,
   "metadata": {},
   "outputs": [
    {
     "name": "stdout",
     "output_type": "stream",
     "text": [
      "(619040, 9)\n"
     ]
    },
    {
     "data": {
      "text/html": [
       "<div>\n",
       "<style scoped>\n",
       "    .dataframe tbody tr th:only-of-type {\n",
       "        vertical-align: middle;\n",
       "    }\n",
       "\n",
       "    .dataframe tbody tr th {\n",
       "        vertical-align: top;\n",
       "    }\n",
       "\n",
       "    .dataframe thead th {\n",
       "        text-align: right;\n",
       "    }\n",
       "</style>\n",
       "<table border=\"1\" class=\"dataframe\">\n",
       "  <thead>\n",
       "    <tr style=\"text-align: right;\">\n",
       "      <th></th>\n",
       "      <th>date</th>\n",
       "      <th>open</th>\n",
       "      <th>close</th>\n",
       "      <th>high</th>\n",
       "      <th>low</th>\n",
       "      <th>ratio1</th>\n",
       "      <th>ratio2</th>\n",
       "      <th>volume</th>\n",
       "      <th>Name</th>\n",
       "    </tr>\n",
       "  </thead>\n",
       "  <tbody>\n",
       "    <tr>\n",
       "      <th>0</th>\n",
       "      <td>2013-02-08</td>\n",
       "      <td>15.07</td>\n",
       "      <td>14.75</td>\n",
       "      <td>15.12</td>\n",
       "      <td>14.63</td>\n",
       "      <td>0.571429</td>\n",
       "      <td>-0.653061</td>\n",
       "      <td>8407500</td>\n",
       "      <td>AAL</td>\n",
       "    </tr>\n",
       "  </tbody>\n",
       "</table>\n",
       "</div>"
      ],
      "text/plain": [
       "         date   open  close   high    low    ratio1    ratio2   volume Name\n",
       "0  2013-02-08  15.07  14.75  15.12  14.63  0.571429 -0.653061  8407500  AAL"
      ]
     },
     "execution_count": 103,
     "metadata": {},
     "output_type": "execute_result"
    }
   ],
   "source": [
    "df = pd.read_csv('./data/all_stocks_5yr.csv')\n",
    "#add 2 ratios\n",
    "df['ratio1']=((df['close']+df['open'])/2-df['low'])/(df['high']-df['low'])\n",
    "df['ratio2']=(df['close']-df['open'])/(df['high']-df['low'])\n",
    "df=df[['date', 'open', 'close', 'high', 'low', 'ratio1', 'ratio2', 'volume', 'Name']]\n",
    "print(df.shape)\n",
    "df.head(1)"
   ]
  },
  {
   "cell_type": "code",
   "execution_count": 106,
   "metadata": {},
   "outputs": [
    {
     "name": "stdout",
     "output_type": "stream",
     "text": [
      "505\n",
      "False\n",
      "618523\n"
     ]
    },
    {
     "data": {
      "text/html": [
       "<div>\n",
       "<style scoped>\n",
       "    .dataframe tbody tr th:only-of-type {\n",
       "        vertical-align: middle;\n",
       "    }\n",
       "\n",
       "    .dataframe tbody tr th {\n",
       "        vertical-align: top;\n",
       "    }\n",
       "\n",
       "    .dataframe thead th {\n",
       "        text-align: right;\n",
       "    }\n",
       "</style>\n",
       "<table border=\"1\" class=\"dataframe\">\n",
       "  <thead>\n",
       "    <tr style=\"text-align: right;\">\n",
       "      <th></th>\n",
       "      <th>date</th>\n",
       "      <th>open</th>\n",
       "      <th>close</th>\n",
       "      <th>high</th>\n",
       "      <th>low</th>\n",
       "      <th>ratio1</th>\n",
       "      <th>ratio2</th>\n",
       "      <th>volume</th>\n",
       "      <th>Name</th>\n",
       "      <th>avg</th>\n",
       "      <th>trend_tmr_up</th>\n",
       "    </tr>\n",
       "  </thead>\n",
       "  <tbody>\n",
       "    <tr>\n",
       "      <th>0</th>\n",
       "      <td>2013-02-08</td>\n",
       "      <td>15.07</td>\n",
       "      <td>14.75</td>\n",
       "      <td>15.12</td>\n",
       "      <td>14.63</td>\n",
       "      <td>0.571429</td>\n",
       "      <td>-0.653061</td>\n",
       "      <td>8407500</td>\n",
       "      <td>AAL</td>\n",
       "      <td>14.8925</td>\n",
       "      <td>False</td>\n",
       "    </tr>\n",
       "  </tbody>\n",
       "</table>\n",
       "</div>"
      ],
      "text/plain": [
       "         date   open  close   high    low    ratio1    ratio2   volume Name  \\\n",
       "0  2013-02-08  15.07  14.75  15.12  14.63  0.571429 -0.653061  8407500  AAL   \n",
       "\n",
       "       avg trend_tmr_up  \n",
       "0  14.8925        False  "
      ]
     },
     "execution_count": 106,
     "metadata": {},
     "output_type": "execute_result"
    }
   ],
   "source": [
    "#calculate avg and set up target\n",
    "print(df['Name'].unique().shape[0])\n",
    "df['avg']=(df['open']+df['close']+df['high']+df['low'])/4\n",
    "df['trend_tmr_up']=None\n",
    "for i in range(len(df)-1):\n",
    "    if df.iloc[i, 8]==df.iloc[i+1, 8]:\n",
    "        #tmr avg > today avg\n",
    "        if df.iloc[i+1, 9] > df.iloc[i, 9]: \n",
    "            df.iloc[i, 10]=True\n",
    "        else:\n",
    "            df.iloc[i, 10]=False\n",
    "\n",
    "df=df.dropna()\n",
    "print(df.trend_tmr_up.isnull().any())\n",
    "print(len(df))\n",
    "\n",
    "df.head(1)"
   ]
  },
  {
   "cell_type": "markdown",
   "metadata": {},
   "source": [
    "Data Transforming & Loading"
   ]
  },
  {
   "cell_type": "code",
   "execution_count": 107,
   "metadata": {},
   "outputs": [
    {
     "name": "stdout",
     "output_type": "stream",
     "text": [
      "train size is 396000\n",
      "valid size is 99000\n",
      "test size is 123523\n"
     ]
    }
   ],
   "source": [
    "data_all = df[['open', 'close', 'high', 'low', 'ratio1', 'ratio2', 'volume', 'trend_tmr_up']].to_numpy()\n",
    "train_size = 396000\n",
    "valid_size = 99000\n",
    "test_size = len(df)-train_size-valid_size\n",
    "scaler = MinMaxScaler(feature_range=(-1, 1))\n",
    "\n",
    "train_valid_set, test_set = data.random_split(data_all, [train_size+valid_size, test_size])\n",
    "\n",
    "train_valid_x, train_valid_y = train_valid_set[:][:, 0:-1], train_valid_set[:][:, -1]\n",
    "test_x, test_y = test_set[:][:, 0:-1], test_set[:][:, -1]\n",
    "\n",
    "train_valid_x = scaler.fit_transform(train_valid_x)\n",
    "test_x = scaler.transform(test_x)\n",
    "\n",
    "train_valid_x = torch.from_numpy(train_valid_x.astype(np.float32)).to(torch.float32)\n",
    "train_valid_y = torch.from_numpy(train_valid_y.astype(np.int8)).to(torch.int8)\n",
    "test_x = torch.from_numpy(test_x.astype(np.float32)).to(torch.float32)\n",
    "test_y = torch.from_numpy(test_y.astype(np.int8)).to(torch.int8)\n",
    "\n",
    "train_valid_data = TensorDataset(train_valid_x, train_valid_y.reshape(-1,1))\n",
    "test_data = TensorDataset(test_x, test_y.reshape(-1,1))\n",
    "\n",
    "train_data, valid_data = data.random_split(train_valid_data, [train_size, valid_size])\n",
    "\n",
    "print(f'train size is {len(train_data)}')\n",
    "print(f'valid size is {len(valid_data)}')\n",
    "print(f'test size is {len(test_data)}')\n",
    "\n",
    "batch_size = 100\n",
    "train_load = DataLoader(train_data, batch_size, shuffle=True)\n",
    "valid_load = DataLoader(valid_data, batch_size, shuffle=True)\n",
    "test_load = DataLoader(test_data, batch_size, shuffle=True)"
   ]
  },
  {
   "cell_type": "code",
   "execution_count": 108,
   "metadata": {},
   "outputs": [],
   "source": [
    "device = torch.device('cuda' if torch.cuda.is_available() else 'cpu')"
   ]
  },
  {
   "cell_type": "markdown",
   "metadata": {},
   "source": [
    "MLP"
   ]
  },
  {
   "cell_type": "code",
   "execution_count": 109,
   "metadata": {},
   "outputs": [],
   "source": [
    "class StockNet(nn.Module):\n",
    "    def __init__(self, input_size, hidden_size_1, hidden_size_2, output_size):\n",
    "        super().__init__()\n",
    "        self.l1 = nn.Linear(input_size, hidden_size_1)\n",
    "        self.relu1 = nn.ReLU()\n",
    "        self.l2 = nn.Linear(hidden_size_1, hidden_size_2)\n",
    "        self.relu2 = nn.ReLU()\n",
    "        self.l3 = nn.Linear(hidden_size_2, output_size)\n",
    "\n",
    "    \n",
    "    def forward(self, x):\n",
    "        out = self.l1(x)\n",
    "        out = self.relu1(out)\n",
    "        out = self.l2(out)\n",
    "        out = self.relu2(out)\n",
    "        out = self.l3(out)\n",
    "        return out"
   ]
  },
  {
   "cell_type": "markdown",
   "metadata": {},
   "source": [
    "Training"
   ]
  },
  {
   "cell_type": "code",
   "execution_count": 112,
   "metadata": {},
   "outputs": [],
   "source": [
    "input_size = 7\n",
    "output_size = 2\n",
    "hidden_size_1 = 100\n",
    "hidden_size_2 = 50\n",
    "learning_rate = 0.001\n",
    "num_epoch = 2"
   ]
  },
  {
   "cell_type": "code",
   "execution_count": 113,
   "metadata": {},
   "outputs": [
    {
     "name": "stdout",
     "output_type": "stream",
     "text": [
      "epoch 1/2, loss = 0.6947\n",
      "epoch 1/2, loss = 0.6010\n",
      "epoch 1/2, loss = 0.6145\n",
      "epoch 2/2, loss = 0.5300\n",
      "epoch 2/2, loss = 0.6704\n",
      "epoch 2/2, loss = 0.6117\n"
     ]
    }
   ],
   "source": [
    "model = StockNet(input_size, hidden_size_1, hidden_size_2, output_size).to(device)\n",
    "criterion = nn.CrossEntropyLoss()\n",
    "optimizer = torch.optim.Adam(model.parameters(), lr=learning_rate)\n",
    "\n",
    "for epoch in range(num_epoch):\n",
    "    for i, (inputs, labels) in enumerate(train_load):\n",
    "        inputs = inputs.to(device)\n",
    "        labels = labels.reshape(len(labels))\n",
    "        #################################################\n",
    "        labels = labels.type(torch.LongTensor).to(device)\n",
    "        #################################################\n",
    "        outputs = model(inputs)\n",
    "        loss = criterion(outputs, labels)\n",
    "\n",
    "        loss.backward()\n",
    "        optimizer.step()\n",
    "        optimizer.zero_grad()\n",
    "        \n",
    "        if (i+1)%1000==0:\n",
    "            print(f'epoch {epoch+1}/{num_epoch}, loss = {loss.item():.4f}')"
   ]
  },
  {
   "cell_type": "markdown",
   "metadata": {},
   "source": [
    "Validating"
   ]
  },
  {
   "cell_type": "code",
   "execution_count": 114,
   "metadata": {},
   "outputs": [
    {
     "name": "stdout",
     "output_type": "stream",
     "text": [
      "valid accuracy = 69.47272727272727\n",
      "data balance ratio is 0.5326666831970215\n"
     ]
    }
   ],
   "source": [
    "with torch.no_grad():\n",
    "    n_correct=0\n",
    "    n_samples=0\n",
    "    how_many_1=0\n",
    "    for inputs, labels in valid_load:\n",
    "        inputs = inputs.to(device)\n",
    "        labels = labels.to(device)\n",
    "        outputs = model(inputs)\n",
    "\n",
    "        _, predictions = torch.max(outputs, 1)\n",
    "        n_samples += labels.shape[0]\n",
    "        n_correct += (predictions == labels[:, 0]).sum().item()\n",
    "        how_many_1 += labels.sum()\n",
    "    \n",
    "    acc = 100.0 * n_correct / n_samples\n",
    "    print(f'valid accuracy = {acc}')\n",
    "    print(f'data balance ratio is {how_many_1/n_samples}')"
   ]
  },
  {
   "cell_type": "markdown",
   "metadata": {},
   "source": [
    "Testing"
   ]
  },
  {
   "cell_type": "code",
   "execution_count": 115,
   "metadata": {},
   "outputs": [
    {
     "name": "stdout",
     "output_type": "stream",
     "text": [
      "test accuracy = 69.50041692640237\n",
      "data balance ratio is 0.5330181121826172\n"
     ]
    }
   ],
   "source": [
    "with torch.no_grad():\n",
    "    n_correct=0\n",
    "    n_samples=0\n",
    "    how_many_1=0\n",
    "    for inputs, labels in test_load:\n",
    "        inputs = inputs.to(device)\n",
    "        labels = labels.to(device)\n",
    "        outputs = model(inputs)\n",
    "\n",
    "        _, predictions = torch.max(outputs, 1)\n",
    "        n_samples += labels.shape[0]\n",
    "        n_correct += (predictions == labels[:, 0]).sum().item()\n",
    "        how_many_1 += labels.sum()\n",
    "    \n",
    "    acc = 100.0 * n_correct / n_samples\n",
    "    print(f'test accuracy = {acc}')\n",
    "    print(f'data balance ratio is {how_many_1/n_samples}')"
   ]
  },
  {
   "cell_type": "markdown",
   "metadata": {},
   "source": [
    "Single Stock Prediction"
   ]
  },
  {
   "cell_type": "code",
   "execution_count": 116,
   "metadata": {},
   "outputs": [],
   "source": [
    "ticker = 'AAPL'\n",
    "time_frame = '1mo'"
   ]
  },
  {
   "cell_type": "code",
   "execution_count": 117,
   "metadata": {},
   "outputs": [
    {
     "data": {
      "text/html": [
       "<div>\n",
       "<style scoped>\n",
       "    .dataframe tbody tr th:only-of-type {\n",
       "        vertical-align: middle;\n",
       "    }\n",
       "\n",
       "    .dataframe tbody tr th {\n",
       "        vertical-align: top;\n",
       "    }\n",
       "\n",
       "    .dataframe thead th {\n",
       "        text-align: right;\n",
       "    }\n",
       "</style>\n",
       "<table border=\"1\" class=\"dataframe\">\n",
       "  <thead>\n",
       "    <tr style=\"text-align: right;\">\n",
       "      <th></th>\n",
       "      <th>date</th>\n",
       "      <th>open</th>\n",
       "      <th>high</th>\n",
       "      <th>low</th>\n",
       "      <th>close</th>\n",
       "      <th>volume</th>\n",
       "      <th>Name</th>\n",
       "      <th>ratio1</th>\n",
       "      <th>ratio2</th>\n",
       "      <th>avg</th>\n",
       "      <th>trend_tmr_up</th>\n",
       "    </tr>\n",
       "  </thead>\n",
       "  <tbody>\n",
       "    <tr>\n",
       "      <th>0</th>\n",
       "      <td>2022-01-19</td>\n",
       "      <td>169.783686</td>\n",
       "      <td>170.862313</td>\n",
       "      <td>165.728854</td>\n",
       "      <td>166.018478</td>\n",
       "      <td>94815000</td>\n",
       "      <td>AAP</td>\n",
       "      <td>0.423151</td>\n",
       "      <td>-0.733464</td>\n",
       "      <td>168.098333</td>\n",
       "      <td>False</td>\n",
       "    </tr>\n",
       "  </tbody>\n",
       "</table>\n",
       "</div>"
      ],
      "text/plain": [
       "        date        open        high         low       close    volume Name  \\\n",
       "0 2022-01-19  169.783686  170.862313  165.728854  166.018478  94815000  AAP   \n",
       "\n",
       "     ratio1    ratio2         avg trend_tmr_up  \n",
       "0  0.423151 -0.733464  168.098333        False  "
      ]
     },
     "execution_count": 117,
     "metadata": {},
     "output_type": "execute_result"
    }
   ],
   "source": [
    "aapl = yf.Ticker(ticker)\n",
    "aapl_df = aapl.history(period=time_frame)\n",
    "aapl_df.reset_index(inplace=True)\n",
    "aapl_df.rename(columns={'Date':'date','Open':'open', 'Close':'close','High':'high', 'Low':'low','Volume':'volume'}, inplace=True)\n",
    "aapl_df['Name']='AAP'\n",
    "aapl_df.drop(columns='Dividends', inplace=True)\n",
    "aapl_df.drop(columns='Stock Splits', inplace=True)\n",
    "\n",
    "aapl_df['ratio1']=((aapl_df['close']+aapl_df['open'])/2-aapl_df['low'])/(aapl_df['high']-aapl_df['low'])\n",
    "aapl_df['ratio2']=(aapl_df['close']-aapl_df['open'])/(aapl_df['high']-aapl_df['low'])\n",
    "aapl_df['avg']=(aapl_df['open']+aapl_df['close']+aapl_df['high']+aapl_df['low'])/4\n",
    "aapl_df['trend_tmr_up']=None\n",
    "\n",
    "for i in range(len(aapl_df)-1):\n",
    "    if aapl_df.iloc[i+1, 9] > aapl_df.iloc[i, 9]:\n",
    "        aapl_df.iloc[i, 10]=True\n",
    "    else:\n",
    "        aapl_df.iloc[i, 10]=False\n",
    "\n",
    "aapl_df.iloc[-1, -1]=3\n",
    "aapl_df.head(1)"
   ]
  },
  {
   "cell_type": "code",
   "execution_count": 118,
   "metadata": {},
   "outputs": [
    {
     "name": "stdout",
     "output_type": "stream",
     "text": [
      "Prediction: [0 0 0 1 1 0 0 1 1 1 1 0 1 0 1 1 0 0 1 1 1 0 0]\n",
      "Reality   : [0 0 0 0 1 0 1 1 1 1 0 0 1 1 1 0 0 0 1 1 0 0 3]\n"
     ]
    }
   ],
   "source": [
    "x = aapl_df[['open', 'close', 'high', 'low', 'ratio1', 'ratio2', 'volume']].to_numpy()\n",
    "y = aapl_df['trend_tmr_up'].to_numpy().astype(np.int8)\n",
    "x = scaler.transform(x)\n",
    "x = torch.from_numpy(x.astype(np.float32)).to(torch.float32).to(device)\n",
    "\n",
    "outputs_aapl = model(x)\n",
    "_, pred_aapl = torch.max(outputs_aapl, 1)\n",
    "\n",
    "print(f'Prediction: {pred_aapl.cpu().numpy()}')\n",
    "print(f'Reality   : {y}')"
   ]
  },
  {
   "cell_type": "code",
   "execution_count": 81,
   "metadata": {},
   "outputs": [],
   "source": [
    "def count_one(x):\n",
    "    count=0\n",
    "    for i in range(len(x)):\n",
    "        if x[i]==1:\n",
    "            count+=1\n",
    "    return count"
   ]
  },
  {
   "cell_type": "code",
   "execution_count": 119,
   "metadata": {},
   "outputs": [
    {
     "name": "stdout",
     "output_type": "stream",
     "text": [
      "accuracy is 0.7272727272727273\n"
     ]
    }
   ],
   "source": [
    "print(f'accuracy is {1-count_one(pred_aapl.cpu()+y)/(len(y)-1)}')"
   ]
  },
  {
   "cell_type": "markdown",
   "metadata": {},
   "source": [
    "Single Day Prediction"
   ]
  },
  {
   "cell_type": "code",
   "execution_count": 121,
   "metadata": {},
   "outputs": [
    {
     "data": {
      "text/plain": [
       "(tensor([[-0.8333, -0.8330, -0.8339, -0.8342,  0.9766, -0.4021, -0.8021]],\n",
       "        device='cuda:0'),\n",
       " tensor([1], device='cuda:0'),\n",
       " tensor([[-0.5018,  0.2410]], device='cuda:0', grad_fn=<AddmmBackward0>))"
      ]
     },
     "execution_count": 121,
     "metadata": {},
     "output_type": "execute_result"
    }
   ],
   "source": [
    "sss=aapl_df.loc[aapl_df['date']=='2022-02-16', ['open', 'close', 'high', 'low', 'ratio1', 'ratio2', 'volume']].to_numpy()\n",
    "sss=scaler.transform(sss)\n",
    "sss=torch.from_numpy(sss).to(torch.float32).to(device)\n",
    "model(sss)\n",
    "_, p = torch.max(model(sss), 1)\n",
    "sss, p, model(sss)"
   ]
  },
  {
   "cell_type": "markdown",
   "metadata": {},
   "source": [
    "Something Good"
   ]
  },
  {
   "cell_type": "code",
   "execution_count": 122,
   "metadata": {},
   "outputs": [],
   "source": [
    "def data_processing_yf (ticker, time_frame):\n",
    "    aapl = yf.Ticker(ticker)\n",
    "    aapl_df = aapl.history(period=time_frame)\n",
    "    aapl_df.reset_index(inplace=True)\n",
    "    aapl_df.rename(columns={'Date':'date','Open':'open', 'Close':'close','High':'high', 'Low':'low','Volume':'volume'}, inplace=True)\n",
    "    aapl_df['Name']=ticker\n",
    "    if 'Dividends' in aapl_df.columns:\n",
    "        aapl_df.drop(columns='Dividends', inplace=True)\n",
    "    if 'Stock Splits' in aapl_df.columns:\n",
    "        aapl_df.drop(columns='Stock Splits', inplace=True)\n",
    "\n",
    "    aapl_df['ratio1']=((aapl_df['close']+aapl_df['open'])/2-aapl_df['low'])/(aapl_df['high']-aapl_df['low'])\n",
    "    aapl_df['ratio2']=(aapl_df['close']-aapl_df['open'])/(aapl_df['high']-aapl_df['low'])\n",
    "    aapl_df['avg']=(aapl_df['open']+aapl_df['close']+aapl_df['high']+aapl_df['low'])/4\n",
    "    aapl_df['trend_tmr_up']=None\n",
    "\n",
    "    for i in range(len(aapl_df)-1):\n",
    "        if aapl_df.iloc[i+1, 9] > aapl_df.iloc[i, 2]:\n",
    "            aapl_df.iloc[i, 10]=True\n",
    "        else:\n",
    "            aapl_df.iloc[i, 10]=False\n",
    "\n",
    "    aapl_df.iloc[-1, -1]=3\n",
    "    return aapl_df"
   ]
  },
  {
   "cell_type": "code",
   "execution_count": 126,
   "metadata": {},
   "outputs": [],
   "source": [
    "def test_acc (aapl_df):\n",
    "    x = aapl_df[['open', 'close', 'high', 'low', 'ratio1', 'ratio2', 'volume']].to_numpy()\n",
    "    y = aapl_df['trend_tmr_up'].to_numpy().astype(np.int8)\n",
    "    x = scaler.transform(x)\n",
    "    x = torch.from_numpy(x.astype(np.float32)).to(torch.float32).to(device)\n",
    "\n",
    "    outputs_aapl = model(x)\n",
    "    _, pred_aapl = torch.max(outputs_aapl, 1)\n",
    "\n",
    "    #print(f'Prediction: {pred_aapl.cpu().numpy()}')\n",
    "    #print(f'Reality   : {y}')\n",
    "    print(f'{aapl_df.Name[0]} accuracy is {1-count_one(pred_aapl.cpu()+y)/(len(y)-1)}')"
   ]
  },
  {
   "cell_type": "code",
   "execution_count": 127,
   "metadata": {},
   "outputs": [
    {
     "name": "stdout",
     "output_type": "stream",
     "text": [
      "AAL accuracy is 0.5533596837944664\n",
      "AAPL accuracy is 0.5770750988142292\n",
      "AAP accuracy is 0.5849802371541502\n",
      "ABBV accuracy is 0.5335968379446641\n",
      "ABC accuracy is 0.541501976284585\n",
      "ABT accuracy is 0.5968379446640316\n",
      "ACN accuracy is 0.5612648221343873\n",
      "ADBE accuracy is 0.45849802371541504\n",
      "ADI accuracy is 0.5375494071146245\n",
      "ADM accuracy is 0.5652173913043479\n",
      "ADP accuracy is 0.5138339920948616\n",
      "ADSK accuracy is 0.5573122529644269\n",
      "ADS accuracy is 0.5573122529644269\n",
      "AEE accuracy is 0.5731225296442688\n",
      "AEP accuracy is 0.5889328063241106\n",
      "AES accuracy is 0.6047430830039526\n",
      "AFL accuracy is 0.5454545454545454\n",
      "AIG accuracy is 0.5573122529644269\n",
      "AIV accuracy is 0.5098814229249011\n",
      "AIZ accuracy is 0.5533596837944664\n",
      "AJG accuracy is 0.5849802371541502\n",
      "AKAM accuracy is 0.5494071146245059\n",
      "ALB accuracy is 0.5612648221343873\n",
      "ALGN accuracy is 0.4347826086956522\n",
      "ALK accuracy is 0.6086956521739131\n",
      "ALLE accuracy is 0.5533596837944664\n",
      "ALL accuracy is 0.5849802371541502\n",
      "AMAT accuracy is 0.6047430830039526\n",
      "AMD accuracy is 0.5770750988142292\n",
      "AME accuracy is 0.5454545454545454\n",
      "AMGN accuracy is 0.5652173913043479\n",
      "AMG accuracy is 0.6007905138339921\n",
      "AMP accuracy is 0.5256916996047432\n",
      "AMT accuracy is 0.5494071146245059\n",
      "AMZN accuracy is 0.5652173913043479\n",
      "ANSS accuracy is 0.48221343873517786\n",
      "ANTM accuracy is 0.45849802371541504\n",
      "AON accuracy is 0.5731225296442688\n",
      "AOS accuracy is 0.5928853754940712\n",
      "APA accuracy is 0.6047430830039526\n",
      "APD accuracy is 0.5652173913043479\n",
      "APH accuracy is 0.5889328063241106\n",
      "APTV accuracy is 0.5770750988142292\n",
      "ARE accuracy is 0.5770750988142292\n",
      "ARNC accuracy is 0.5810276679841897\n"
     ]
    }
   ],
   "source": [
    "for i in range (50):\n",
    "    if df.Name.unique()[i] in ['AET', 'AGN', 'ALXN', 'ANDV', 'APC']:\n",
    "        continue\n",
    "    ticker = df.Name.unique()[i] \n",
    "    time_frame = '1y'\n",
    "    test_acc(data_processing_yf(ticker, time_frame))"
   ]
  },
  {
   "cell_type": "code",
   "execution_count": null,
   "metadata": {},
   "outputs": [],
   "source": []
  },
  {
   "cell_type": "code",
   "execution_count": null,
   "metadata": {},
   "outputs": [],
   "source": []
  }
 ],
 "metadata": {
  "interpreter": {
   "hash": "53213aaf44a9b500f45e4dbdbab8474339604b7b9920d2b6d3bf598aa5d19e5a"
  },
  "kernelspec": {
   "display_name": "Python 3.9.7 ('Pytorch')",
   "language": "python",
   "name": "python3"
  },
  "language_info": {
   "codemirror_mode": {
    "name": "ipython",
    "version": 3
   },
   "file_extension": ".py",
   "mimetype": "text/x-python",
   "name": "python",
   "nbconvert_exporter": "python",
   "pygments_lexer": "ipython3",
   "version": "3.9.7"
  },
  "orig_nbformat": 4
 },
 "nbformat": 4,
 "nbformat_minor": 2
}
