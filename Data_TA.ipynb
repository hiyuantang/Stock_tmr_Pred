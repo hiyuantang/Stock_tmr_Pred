{
 "cells": [
  {
   "cell_type": "code",
   "execution_count": 1,
   "metadata": {},
   "outputs": [],
   "source": [
    "import numpy as np\n",
    "import yfinance as yf\n",
    "import pandas as pd\n",
    "import talib as ta"
   ]
  },
  {
   "cell_type": "code",
   "execution_count": 2,
   "metadata": {},
   "outputs": [],
   "source": [
    "df = pd.read_csv('./data/sp500_2y.csv')\n",
    "del df['Adj Close']"
   ]
  },
  {
   "cell_type": "code",
   "execution_count": 3,
   "metadata": {},
   "outputs": [],
   "source": [
    "def add_ma_avg (df, timeperiod=20):\n",
    "    df['MA_avg']=ta.MA(df.avg, timeperiod)"
   ]
  },
  {
   "cell_type": "code",
   "execution_count": 4,
   "metadata": {},
   "outputs": [],
   "source": [
    "def add_ta (df):\n",
    "    df_all=pd.DataFrame()\n",
    "    for i in df.Name.unique():\n",
    "    #for i in ['AAPL']:\n",
    "        df_single_stock = df.loc[df['Name']==i].copy(deep=True)\n",
    "        add_ma_avg (df_single_stock, timeperiod=30)\n",
    "        df_all=pd.concat([df_all, df_single_stock])\n",
    "    return df_all"
   ]
  },
  {
   "cell_type": "code",
   "execution_count": 5,
   "metadata": {},
   "outputs": [
    {
     "name": "stdout",
     "output_type": "stream",
     "text": [
      "(239090, 14)\n"
     ]
    },
    {
     "data": {
      "text/html": [
       "<div>\n",
       "<style scoped>\n",
       "    .dataframe tbody tr th:only-of-type {\n",
       "        vertical-align: middle;\n",
       "    }\n",
       "\n",
       "    .dataframe tbody tr th {\n",
       "        vertical-align: top;\n",
       "    }\n",
       "\n",
       "    .dataframe thead th {\n",
       "        text-align: right;\n",
       "    }\n",
       "</style>\n",
       "<table border=\"1\" class=\"dataframe\">\n",
       "  <thead>\n",
       "    <tr style=\"text-align: right;\">\n",
       "      <th></th>\n",
       "      <th>Date</th>\n",
       "      <th>Open</th>\n",
       "      <th>High</th>\n",
       "      <th>Low</th>\n",
       "      <th>Close</th>\n",
       "      <th>Volume</th>\n",
       "      <th>Dividends</th>\n",
       "      <th>Ratio1</th>\n",
       "      <th>Ratio2</th>\n",
       "      <th>avg</th>\n",
       "      <th>MA_avg</th>\n",
       "      <th>MA-avg</th>\n",
       "      <th>trend_tmr_up</th>\n",
       "      <th>Name</th>\n",
       "    </tr>\n",
       "  </thead>\n",
       "  <tbody>\n",
       "    <tr>\n",
       "      <th>29</th>\n",
       "      <td>2020-03-31</td>\n",
       "      <td>63.033849</td>\n",
       "      <td>64.732997</td>\n",
       "      <td>62.146047</td>\n",
       "      <td>62.710785</td>\n",
       "      <td>197002000.0</td>\n",
       "      <td>0.0</td>\n",
       "      <td>0.280744</td>\n",
       "      <td>-0.124882</td>\n",
       "      <td>63.155919</td>\n",
       "      <td>67.002087</td>\n",
       "      <td>3.846167</td>\n",
       "      <td>False</td>\n",
       "      <td>AAPL</td>\n",
       "    </tr>\n",
       "    <tr>\n",
       "      <th>30</th>\n",
       "      <td>2020-04-01</td>\n",
       "      <td>60.789681</td>\n",
       "      <td>61.337159</td>\n",
       "      <td>58.972157</td>\n",
       "      <td>59.411125</td>\n",
       "      <td>176218400.0</td>\n",
       "      <td>0.0</td>\n",
       "      <td>0.477059</td>\n",
       "      <td>-0.582899</td>\n",
       "      <td>60.127531</td>\n",
       "      <td>66.358986</td>\n",
       "      <td>6.231456</td>\n",
       "      <td>False</td>\n",
       "      <td>AAPL</td>\n",
       "    </tr>\n",
       "    <tr>\n",
       "      <th>31</th>\n",
       "      <td>2020-04-02</td>\n",
       "      <td>59.270548</td>\n",
       "      <td>60.456747</td>\n",
       "      <td>58.422204</td>\n",
       "      <td>60.402493</td>\n",
       "      <td>165934000.0</td>\n",
       "      <td>0.0</td>\n",
       "      <td>0.695152</td>\n",
       "      <td>0.556363</td>\n",
       "      <td>59.637998</td>\n",
       "      <td>65.704500</td>\n",
       "      <td>6.066502</td>\n",
       "      <td>True</td>\n",
       "      <td>AAPL</td>\n",
       "    </tr>\n",
       "  </tbody>\n",
       "</table>\n",
       "</div>"
      ],
      "text/plain": [
       "          Date       Open       High        Low      Close       Volume  \\\n",
       "29  2020-03-31  63.033849  64.732997  62.146047  62.710785  197002000.0   \n",
       "30  2020-04-01  60.789681  61.337159  58.972157  59.411125  176218400.0   \n",
       "31  2020-04-02  59.270548  60.456747  58.422204  60.402493  165934000.0   \n",
       "\n",
       "    Dividends    Ratio1    Ratio2        avg     MA_avg    MA-avg  \\\n",
       "29        0.0  0.280744 -0.124882  63.155919  67.002087  3.846167   \n",
       "30        0.0  0.477059 -0.582899  60.127531  66.358986  6.231456   \n",
       "31        0.0  0.695152  0.556363  59.637998  65.704500  6.066502   \n",
       "\n",
       "    trend_tmr_up  Name  \n",
       "29         False  AAPL  \n",
       "30         False  AAPL  \n",
       "31          True  AAPL  "
      ]
     },
     "execution_count": 5,
     "metadata": {},
     "output_type": "execute_result"
    }
   ],
   "source": [
    "df = add_ta(df)\n",
    "df.dropna(inplace=True)\n",
    "\n",
    "####extra process####\n",
    "df['MA-avg']=df['MA_avg']-df['avg']\n",
    "#####################\n",
    "\n",
    "#re-order feature names\n",
    "features = ['Date', 'Open', 'High', 'Low', 'Close', 'Volume', 'Dividends', 'Ratio1', 'Ratio2', 'avg' ,\n",
    "            'MA_avg', 'MA-avg', 'trend_tmr_up', 'Name']\n",
    "df = df[features]\n",
    "\n",
    "print(df.shape)\n",
    "df.head(3)"
   ]
  },
  {
   "cell_type": "code",
   "execution_count": 6,
   "metadata": {},
   "outputs": [],
   "source": [
    "df.to_csv('./data/sp500_2y_ta.csv')"
   ]
  }
 ],
 "metadata": {
  "interpreter": {
   "hash": "6f1afeafb7ce82da8fe4ae26d5b446265789dd2924e2f5164a9e747febe7777b"
  },
  "kernelspec": {
   "display_name": "Python 3.9.7 ('Pytorch')",
   "language": "python",
   "name": "python3"
  },
  "language_info": {
   "codemirror_mode": {
    "name": "ipython",
    "version": 3
   },
   "file_extension": ".py",
   "mimetype": "text/x-python",
   "name": "python",
   "nbconvert_exporter": "python",
   "pygments_lexer": "ipython3",
   "version": "3.9.7"
  },
  "orig_nbformat": 4
 },
 "nbformat": 4,
 "nbformat_minor": 2
}
